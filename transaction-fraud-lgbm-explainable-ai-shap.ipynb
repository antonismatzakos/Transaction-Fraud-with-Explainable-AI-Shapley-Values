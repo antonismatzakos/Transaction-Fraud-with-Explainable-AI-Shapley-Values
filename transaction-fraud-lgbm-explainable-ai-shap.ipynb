{
 "cells": [
  {
   "cell_type": "code",
   "execution_count": 1,
   "id": "de50753c",
   "metadata": {
    "execution": {
     "iopub.execute_input": "2022-10-13T07:54:57.911698Z",
     "iopub.status.busy": "2022-10-13T07:54:57.911270Z",
     "iopub.status.idle": "2022-10-13T07:55:01.291029Z",
     "shell.execute_reply": "2022-10-13T07:55:01.290021Z"
    },
    "papermill": {
     "duration": 3.392609,
     "end_time": "2022-10-13T07:55:01.293920",
     "exception": false,
     "start_time": "2022-10-13T07:54:57.901311",
     "status": "completed"
    },
    "tags": []
   },
   "outputs": [
    {
     "data": {
      "text/html": [
       "        <script type=\"text/javascript\">\n",
       "        window.PlotlyConfig = {MathJaxConfig: 'local'};\n",
       "        if (window.MathJax && window.MathJax.Hub && window.MathJax.Hub.Config) {window.MathJax.Hub.Config({SVG: {font: \"STIX-Web\"}});}\n",
       "        if (typeof require !== 'undefined') {\n",
       "        require.undef(\"plotly\");\n",
       "        requirejs.config({\n",
       "            paths: {\n",
       "                'plotly': ['https://cdn.plot.ly/plotly-2.14.0.min']\n",
       "            }\n",
       "        });\n",
       "        require(['plotly'], function(Plotly) {\n",
       "            window._Plotly = Plotly;\n",
       "        });\n",
       "        }\n",
       "        </script>\n",
       "        "
      ]
     },
     "metadata": {},
     "output_type": "display_data"
    }
   ],
   "source": [
    "import pandas as pd\n",
    "import numpy as np\n",
    "import seaborn as sns\n",
    "import matplotlib.pyplot as plt\n",
    "import plotly.express as px\n",
    "import plotly.graph_objects as go\n",
    "from plotly.offline import plot, iplot, init_notebook_mode\n",
    "init_notebook_mode(connected=True)\n",
    "%matplotlib inline\n",
    "from sklearn.model_selection import train_test_split\n",
    "from sklearn.preprocessing import LabelEncoder\n",
    "from sklearn.model_selection import GridSearchCV\n",
    "from sklearn import metrics\n",
    "from sklearn.metrics import classification_report\n",
    "from sklearn.metrics import accuracy_score\n",
    "from sklearn.metrics import confusion_matrix\n",
    "import os\n",
    "import warnings\n",
    "warnings.filterwarnings(\"ignore\")"
   ]
  },
  {
   "cell_type": "markdown",
   "id": "fcaa1d4f",
   "metadata": {
    "papermill": {
     "duration": 0.008362,
     "end_time": "2022-10-13T07:55:01.311444",
     "exception": false,
     "start_time": "2022-10-13T07:55:01.303082",
     "status": "completed"
    },
    "tags": []
   },
   "source": [
    "# **Read Data**"
   ]
  },
  {
   "cell_type": "code",
   "execution_count": 2,
   "id": "5ba00fd8",
   "metadata": {
    "execution": {
     "iopub.execute_input": "2022-10-13T07:55:01.328355Z",
     "iopub.status.busy": "2022-10-13T07:55:01.328054Z",
     "iopub.status.idle": "2022-10-13T07:55:16.289153Z",
     "shell.execute_reply": "2022-10-13T07:55:16.288173Z"
    },
    "papermill": {
     "duration": 14.972161,
     "end_time": "2022-10-13T07:55:16.291520",
     "exception": false,
     "start_time": "2022-10-13T07:55:01.319359",
     "status": "completed"
    },
    "tags": []
   },
   "outputs": [],
   "source": [
    "os.listdir(\"/kaggle/input/\")\n",
    "df = pd.read_csv(\"../input/transactions/transactions_fictive_log.csv\")"
   ]
  },
  {
   "cell_type": "markdown",
   "id": "1eee0c40",
   "metadata": {
    "papermill": {
     "duration": 0.007179,
     "end_time": "2022-10-13T07:55:16.306571",
     "exception": false,
     "start_time": "2022-10-13T07:55:16.299392",
     "status": "completed"
    },
    "tags": []
   },
   "source": [
    "# **Exploratory Data Analysis**"
   ]
  },
  {
   "cell_type": "code",
   "execution_count": 3,
   "id": "c9be1e46",
   "metadata": {
    "execution": {
     "iopub.execute_input": "2022-10-13T07:55:16.324023Z",
     "iopub.status.busy": "2022-10-13T07:55:16.323697Z",
     "iopub.status.idle": "2022-10-13T07:55:16.348034Z",
     "shell.execute_reply": "2022-10-13T07:55:16.346925Z"
    },
    "papermill": {
     "duration": 0.035122,
     "end_time": "2022-10-13T07:55:16.350589",
     "exception": false,
     "start_time": "2022-10-13T07:55:16.315467",
     "status": "completed"
    },
    "tags": []
   },
   "outputs": [
    {
     "name": "stdout",
     "output_type": "stream",
     "text": [
      "<class 'pandas.core.frame.DataFrame'>\n",
      "RangeIndex: 6362620 entries, 0 to 6362619\n",
      "Data columns (total 11 columns):\n",
      " #   Column          Dtype  \n",
      "---  ------          -----  \n",
      " 0   step            int64  \n",
      " 1   type            object \n",
      " 2   amount          float64\n",
      " 3   nameOrig        object \n",
      " 4   oldbalanceOrg   float64\n",
      " 5   newbalanceOrig  float64\n",
      " 6   nameDest        object \n",
      " 7   oldbalanceDest  float64\n",
      " 8   newbalanceDest  float64\n",
      " 9   isFraud         int64  \n",
      " 10  isFlaggedFraud  int64  \n",
      "dtypes: float64(5), int64(3), object(3)\n",
      "memory usage: 534.0+ MB\n"
     ]
    }
   ],
   "source": [
    "df.info()"
   ]
  },
  {
   "cell_type": "code",
   "execution_count": 4,
   "id": "cf8fe930",
   "metadata": {
    "execution": {
     "iopub.execute_input": "2022-10-13T07:55:16.366785Z",
     "iopub.status.busy": "2022-10-13T07:55:16.366523Z",
     "iopub.status.idle": "2022-10-13T07:55:18.218012Z",
     "shell.execute_reply": "2022-10-13T07:55:18.216945Z"
    },
    "papermill": {
     "duration": 1.862248,
     "end_time": "2022-10-13T07:55:18.220430",
     "exception": false,
     "start_time": "2022-10-13T07:55:16.358182",
     "status": "completed"
    },
    "tags": []
   },
   "outputs": [
    {
     "data": {
      "text/html": [
       "<div>\n",
       "<style scoped>\n",
       "    .dataframe tbody tr th:only-of-type {\n",
       "        vertical-align: middle;\n",
       "    }\n",
       "\n",
       "    .dataframe tbody tr th {\n",
       "        vertical-align: top;\n",
       "    }\n",
       "\n",
       "    .dataframe thead th {\n",
       "        text-align: right;\n",
       "    }\n",
       "</style>\n",
       "<table border=\"1\" class=\"dataframe\">\n",
       "  <thead>\n",
       "    <tr style=\"text-align: right;\">\n",
       "      <th></th>\n",
       "      <th>step</th>\n",
       "      <th>amount</th>\n",
       "      <th>oldbalanceOrg</th>\n",
       "      <th>newbalanceOrig</th>\n",
       "      <th>oldbalanceDest</th>\n",
       "      <th>newbalanceDest</th>\n",
       "      <th>isFraud</th>\n",
       "      <th>isFlaggedFraud</th>\n",
       "    </tr>\n",
       "  </thead>\n",
       "  <tbody>\n",
       "    <tr>\n",
       "      <th>count</th>\n",
       "      <td>6.362620e+06</td>\n",
       "      <td>6.362620e+06</td>\n",
       "      <td>6.362620e+06</td>\n",
       "      <td>6.362620e+06</td>\n",
       "      <td>6.362620e+06</td>\n",
       "      <td>6.362620e+06</td>\n",
       "      <td>6.362620e+06</td>\n",
       "      <td>6.362620e+06</td>\n",
       "    </tr>\n",
       "    <tr>\n",
       "      <th>mean</th>\n",
       "      <td>2.433972e+02</td>\n",
       "      <td>1.798619e+05</td>\n",
       "      <td>8.338831e+05</td>\n",
       "      <td>8.551137e+05</td>\n",
       "      <td>1.100702e+06</td>\n",
       "      <td>1.224996e+06</td>\n",
       "      <td>1.290820e-03</td>\n",
       "      <td>2.514687e-06</td>\n",
       "    </tr>\n",
       "    <tr>\n",
       "      <th>std</th>\n",
       "      <td>1.423320e+02</td>\n",
       "      <td>6.038582e+05</td>\n",
       "      <td>2.888243e+06</td>\n",
       "      <td>2.924049e+06</td>\n",
       "      <td>3.399180e+06</td>\n",
       "      <td>3.674129e+06</td>\n",
       "      <td>3.590480e-02</td>\n",
       "      <td>1.585775e-03</td>\n",
       "    </tr>\n",
       "    <tr>\n",
       "      <th>min</th>\n",
       "      <td>1.000000e+00</td>\n",
       "      <td>0.000000e+00</td>\n",
       "      <td>0.000000e+00</td>\n",
       "      <td>0.000000e+00</td>\n",
       "      <td>0.000000e+00</td>\n",
       "      <td>0.000000e+00</td>\n",
       "      <td>0.000000e+00</td>\n",
       "      <td>0.000000e+00</td>\n",
       "    </tr>\n",
       "    <tr>\n",
       "      <th>25%</th>\n",
       "      <td>1.560000e+02</td>\n",
       "      <td>1.338957e+04</td>\n",
       "      <td>0.000000e+00</td>\n",
       "      <td>0.000000e+00</td>\n",
       "      <td>0.000000e+00</td>\n",
       "      <td>0.000000e+00</td>\n",
       "      <td>0.000000e+00</td>\n",
       "      <td>0.000000e+00</td>\n",
       "    </tr>\n",
       "    <tr>\n",
       "      <th>50%</th>\n",
       "      <td>2.390000e+02</td>\n",
       "      <td>7.487194e+04</td>\n",
       "      <td>1.420800e+04</td>\n",
       "      <td>0.000000e+00</td>\n",
       "      <td>1.327057e+05</td>\n",
       "      <td>2.146614e+05</td>\n",
       "      <td>0.000000e+00</td>\n",
       "      <td>0.000000e+00</td>\n",
       "    </tr>\n",
       "    <tr>\n",
       "      <th>75%</th>\n",
       "      <td>3.350000e+02</td>\n",
       "      <td>2.087215e+05</td>\n",
       "      <td>1.073152e+05</td>\n",
       "      <td>1.442584e+05</td>\n",
       "      <td>9.430367e+05</td>\n",
       "      <td>1.111909e+06</td>\n",
       "      <td>0.000000e+00</td>\n",
       "      <td>0.000000e+00</td>\n",
       "    </tr>\n",
       "    <tr>\n",
       "      <th>max</th>\n",
       "      <td>7.430000e+02</td>\n",
       "      <td>9.244552e+07</td>\n",
       "      <td>5.958504e+07</td>\n",
       "      <td>4.958504e+07</td>\n",
       "      <td>3.560159e+08</td>\n",
       "      <td>3.561793e+08</td>\n",
       "      <td>1.000000e+00</td>\n",
       "      <td>1.000000e+00</td>\n",
       "    </tr>\n",
       "  </tbody>\n",
       "</table>\n",
       "</div>"
      ],
      "text/plain": [
       "               step        amount  oldbalanceOrg  newbalanceOrig  \\\n",
       "count  6.362620e+06  6.362620e+06   6.362620e+06    6.362620e+06   \n",
       "mean   2.433972e+02  1.798619e+05   8.338831e+05    8.551137e+05   \n",
       "std    1.423320e+02  6.038582e+05   2.888243e+06    2.924049e+06   \n",
       "min    1.000000e+00  0.000000e+00   0.000000e+00    0.000000e+00   \n",
       "25%    1.560000e+02  1.338957e+04   0.000000e+00    0.000000e+00   \n",
       "50%    2.390000e+02  7.487194e+04   1.420800e+04    0.000000e+00   \n",
       "75%    3.350000e+02  2.087215e+05   1.073152e+05    1.442584e+05   \n",
       "max    7.430000e+02  9.244552e+07   5.958504e+07    4.958504e+07   \n",
       "\n",
       "       oldbalanceDest  newbalanceDest       isFraud  isFlaggedFraud  \n",
       "count    6.362620e+06    6.362620e+06  6.362620e+06    6.362620e+06  \n",
       "mean     1.100702e+06    1.224996e+06  1.290820e-03    2.514687e-06  \n",
       "std      3.399180e+06    3.674129e+06  3.590480e-02    1.585775e-03  \n",
       "min      0.000000e+00    0.000000e+00  0.000000e+00    0.000000e+00  \n",
       "25%      0.000000e+00    0.000000e+00  0.000000e+00    0.000000e+00  \n",
       "50%      1.327057e+05    2.146614e+05  0.000000e+00    0.000000e+00  \n",
       "75%      9.430367e+05    1.111909e+06  0.000000e+00    0.000000e+00  \n",
       "max      3.560159e+08    3.561793e+08  1.000000e+00    1.000000e+00  "
      ]
     },
     "execution_count": 4,
     "metadata": {},
     "output_type": "execute_result"
    }
   ],
   "source": [
    "#Descriptive stats\n",
    "df.describe()"
   ]
  },
  {
   "cell_type": "code",
   "execution_count": 5,
   "id": "6bc0a93f",
   "metadata": {
    "execution": {
     "iopub.execute_input": "2022-10-13T07:55:18.237894Z",
     "iopub.status.busy": "2022-10-13T07:55:18.237593Z",
     "iopub.status.idle": "2022-10-13T07:55:19.526065Z",
     "shell.execute_reply": "2022-10-13T07:55:19.524955Z"
    },
    "papermill": {
     "duration": 1.299319,
     "end_time": "2022-10-13T07:55:19.528123",
     "exception": false,
     "start_time": "2022-10-13T07:55:18.228804",
     "status": "completed"
    },
    "tags": []
   },
   "outputs": [
    {
     "data": {
      "text/html": [
       "<div>\n",
       "<style scoped>\n",
       "    .dataframe tbody tr th:only-of-type {\n",
       "        vertical-align: middle;\n",
       "    }\n",
       "\n",
       "    .dataframe tbody tr th {\n",
       "        vertical-align: top;\n",
       "    }\n",
       "\n",
       "    .dataframe thead th {\n",
       "        text-align: right;\n",
       "    }\n",
       "</style>\n",
       "<table border=\"1\" class=\"dataframe\">\n",
       "  <thead>\n",
       "    <tr style=\"text-align: right;\">\n",
       "      <th></th>\n",
       "      <th>step</th>\n",
       "      <th>amount</th>\n",
       "      <th>oldbalanceOrg</th>\n",
       "      <th>newbalanceOrig</th>\n",
       "      <th>oldbalanceDest</th>\n",
       "      <th>newbalanceDest</th>\n",
       "      <th>isFraud</th>\n",
       "      <th>isFlaggedFraud</th>\n",
       "    </tr>\n",
       "  </thead>\n",
       "  <tbody>\n",
       "    <tr>\n",
       "      <th>step</th>\n",
       "      <td>1.000000</td>\n",
       "      <td>0.022373</td>\n",
       "      <td>-0.010058</td>\n",
       "      <td>-0.010299</td>\n",
       "      <td>0.027665</td>\n",
       "      <td>0.025888</td>\n",
       "      <td>0.031578</td>\n",
       "      <td>0.003277</td>\n",
       "    </tr>\n",
       "    <tr>\n",
       "      <th>amount</th>\n",
       "      <td>0.022373</td>\n",
       "      <td>1.000000</td>\n",
       "      <td>-0.002762</td>\n",
       "      <td>-0.007861</td>\n",
       "      <td>0.294137</td>\n",
       "      <td>0.459304</td>\n",
       "      <td>0.076688</td>\n",
       "      <td>0.012295</td>\n",
       "    </tr>\n",
       "    <tr>\n",
       "      <th>oldbalanceOrg</th>\n",
       "      <td>-0.010058</td>\n",
       "      <td>-0.002762</td>\n",
       "      <td>1.000000</td>\n",
       "      <td>0.998803</td>\n",
       "      <td>0.066243</td>\n",
       "      <td>0.042029</td>\n",
       "      <td>0.010154</td>\n",
       "      <td>0.003835</td>\n",
       "    </tr>\n",
       "    <tr>\n",
       "      <th>newbalanceOrig</th>\n",
       "      <td>-0.010299</td>\n",
       "      <td>-0.007861</td>\n",
       "      <td>0.998803</td>\n",
       "      <td>1.000000</td>\n",
       "      <td>0.067812</td>\n",
       "      <td>0.041837</td>\n",
       "      <td>-0.008148</td>\n",
       "      <td>0.003776</td>\n",
       "    </tr>\n",
       "    <tr>\n",
       "      <th>oldbalanceDest</th>\n",
       "      <td>0.027665</td>\n",
       "      <td>0.294137</td>\n",
       "      <td>0.066243</td>\n",
       "      <td>0.067812</td>\n",
       "      <td>1.000000</td>\n",
       "      <td>0.976569</td>\n",
       "      <td>-0.005885</td>\n",
       "      <td>-0.000513</td>\n",
       "    </tr>\n",
       "    <tr>\n",
       "      <th>newbalanceDest</th>\n",
       "      <td>0.025888</td>\n",
       "      <td>0.459304</td>\n",
       "      <td>0.042029</td>\n",
       "      <td>0.041837</td>\n",
       "      <td>0.976569</td>\n",
       "      <td>1.000000</td>\n",
       "      <td>0.000535</td>\n",
       "      <td>-0.000529</td>\n",
       "    </tr>\n",
       "    <tr>\n",
       "      <th>isFraud</th>\n",
       "      <td>0.031578</td>\n",
       "      <td>0.076688</td>\n",
       "      <td>0.010154</td>\n",
       "      <td>-0.008148</td>\n",
       "      <td>-0.005885</td>\n",
       "      <td>0.000535</td>\n",
       "      <td>1.000000</td>\n",
       "      <td>0.044109</td>\n",
       "    </tr>\n",
       "    <tr>\n",
       "      <th>isFlaggedFraud</th>\n",
       "      <td>0.003277</td>\n",
       "      <td>0.012295</td>\n",
       "      <td>0.003835</td>\n",
       "      <td>0.003776</td>\n",
       "      <td>-0.000513</td>\n",
       "      <td>-0.000529</td>\n",
       "      <td>0.044109</td>\n",
       "      <td>1.000000</td>\n",
       "    </tr>\n",
       "  </tbody>\n",
       "</table>\n",
       "</div>"
      ],
      "text/plain": [
       "                    step    amount  oldbalanceOrg  newbalanceOrig  \\\n",
       "step            1.000000  0.022373      -0.010058       -0.010299   \n",
       "amount          0.022373  1.000000      -0.002762       -0.007861   \n",
       "oldbalanceOrg  -0.010058 -0.002762       1.000000        0.998803   \n",
       "newbalanceOrig -0.010299 -0.007861       0.998803        1.000000   \n",
       "oldbalanceDest  0.027665  0.294137       0.066243        0.067812   \n",
       "newbalanceDest  0.025888  0.459304       0.042029        0.041837   \n",
       "isFraud         0.031578  0.076688       0.010154       -0.008148   \n",
       "isFlaggedFraud  0.003277  0.012295       0.003835        0.003776   \n",
       "\n",
       "                oldbalanceDest  newbalanceDest   isFraud  isFlaggedFraud  \n",
       "step                  0.027665        0.025888  0.031578        0.003277  \n",
       "amount                0.294137        0.459304  0.076688        0.012295  \n",
       "oldbalanceOrg         0.066243        0.042029  0.010154        0.003835  \n",
       "newbalanceOrig        0.067812        0.041837 -0.008148        0.003776  \n",
       "oldbalanceDest        1.000000        0.976569 -0.005885       -0.000513  \n",
       "newbalanceDest        0.976569        1.000000  0.000535       -0.000529  \n",
       "isFraud              -0.005885        0.000535  1.000000        0.044109  \n",
       "isFlaggedFraud       -0.000513       -0.000529  0.044109        1.000000  "
      ]
     },
     "execution_count": 5,
     "metadata": {},
     "output_type": "execute_result"
    }
   ],
   "source": [
    "df.corr()"
   ]
  },
  {
   "cell_type": "code",
   "execution_count": 6,
   "id": "b95ef13c",
   "metadata": {
    "execution": {
     "iopub.execute_input": "2022-10-13T07:55:19.546221Z",
     "iopub.status.busy": "2022-10-13T07:55:19.545456Z",
     "iopub.status.idle": "2022-10-13T07:55:22.685761Z",
     "shell.execute_reply": "2022-10-13T07:55:22.684380Z"
    },
    "papermill": {
     "duration": 3.151881,
     "end_time": "2022-10-13T07:55:22.688386",
     "exception": false,
     "start_time": "2022-10-13T07:55:19.536505",
     "status": "completed"
    },
    "tags": []
   },
   "outputs": [
    {
     "data": {
      "text/plain": [
       "array([[<AxesSubplot:title={'center':'step'}>,\n",
       "        <AxesSubplot:title={'center':'amount'}>,\n",
       "        <AxesSubplot:title={'center':'oldbalanceOrg'}>],\n",
       "       [<AxesSubplot:title={'center':'newbalanceOrig'}>,\n",
       "        <AxesSubplot:title={'center':'oldbalanceDest'}>,\n",
       "        <AxesSubplot:title={'center':'newbalanceDest'}>],\n",
       "       [<AxesSubplot:title={'center':'isFraud'}>,\n",
       "        <AxesSubplot:title={'center':'isFlaggedFraud'}>, <AxesSubplot:>]],\n",
       "      dtype=object)"
      ]
     },
     "execution_count": 6,
     "metadata": {},
     "output_type": "execute_result"
    },
    {
     "data": {
      "image/png": "[encoded data removed]",
      "text/plain": [
       "<Figure size 1152x1440 with 9 Axes>"
      ]
     },
     "metadata": {
      "needs_background": "light"
     },
     "output_type": "display_data"
    }
   ],
   "source": [
    "df.hist(figsize=(16, 20), bins=50, xlabelsize=8, ylabelsize=8)"
   ]
  },
  {
   "cell_type": "code",
   "execution_count": 7,
   "id": "b3d863a9",
   "metadata": {
    "execution": {
     "iopub.execute_input": "2022-10-13T07:55:22.719025Z",
     "iopub.status.busy": "2022-10-13T07:55:22.718501Z",
     "iopub.status.idle": "2022-10-13T07:55:25.872639Z",
     "shell.execute_reply": "2022-10-13T07:55:25.870889Z"
    },
    "papermill": {
     "duration": 3.171455,
     "end_time": "2022-10-13T07:55:25.875063",
     "exception": false,
     "start_time": "2022-10-13T07:55:22.703608",
     "status": "completed"
    },
    "tags": []
   },
   "outputs": [
    {
     "name": "stdout",
     "output_type": "stream",
     "text": [
      "                   sum                                  std                 \\\n",
      "                amount isFlaggedFraud isFraud        amount isFlaggedFraud   \n",
      "type                                                                         \n",
      "CASH_IN   2.363674e+11              0       0  1.265083e+05       0.000000   \n",
      "CASH_OUT  3.944130e+11              0    4116  1.753297e+05       0.000000   \n",
      "DEBIT     2.271992e+08              0       0  1.331854e+04       0.000000   \n",
      "PAYMENT   2.809337e+10              0       0  1.255645e+04       0.000000   \n",
      "TRANSFER  4.852920e+11             16    4097  1.879574e+06       0.005479   \n",
      "All       1.144393e+12             16    8213  6.038582e+05       0.001586   \n",
      "\n",
      "                    \n",
      "           isFraud  \n",
      "type                \n",
      "CASH_IN   0.000000  \n",
      "CASH_OUT  0.042851  \n",
      "DEBIT     0.000000  \n",
      "PAYMENT   0.000000  \n",
      "TRANSFER  0.087344  \n",
      "All       0.035905  \n"
     ]
    }
   ],
   "source": [
    "df_analysis=pd.pivot_table(df,index=[\"type\"], values=['amount','isFraud','isFlaggedFraud'],aggfunc=[np.sum,np.std], margins=True)\n",
    "print(df_analysis)"
   ]
  },
  {
   "cell_type": "code",
   "execution_count": 8,
   "id": "451fcb39",
   "metadata": {
    "execution": {
     "iopub.execute_input": "2022-10-13T07:55:25.893837Z",
     "iopub.status.busy": "2022-10-13T07:55:25.893523Z",
     "iopub.status.idle": "2022-10-13T07:55:25.980057Z",
     "shell.execute_reply": "2022-10-13T07:55:25.979163Z"
    },
    "papermill": {
     "duration": 0.098386,
     "end_time": "2022-10-13T07:55:25.982247",
     "exception": false,
     "start_time": "2022-10-13T07:55:25.883861",
     "status": "completed"
    },
    "tags": []
   },
   "outputs": [
    {
     "data": {
      "application/vnd.plotly.v1+json": {
       "config": {
        "plotlyServerURL": "https://plot.ly"
       },
       "data": [
        {
         "labels": [
          "Not Fraud",
          "Fraud"
         ],
         "type": "pie",
         "values": [
          6354407,
          8213
         ]
        }
       ],
       "layout": {
        "template": {
         "data": {
          "bar": [
           {
            "error_x": {
             "color": "#2a3f5f"
            },
            "error_y": {
             "color": "#2a3f5f"
            },
            "marker": {
             "line": {
              "color": "#E5ECF6",
              "width": 0.5
             },
             "pattern": {
              "fillmode": "overlay",
              "size": 10,
              "solidity": 0.2
             }
            },
            "type": "bar"
           }
          ],
          "barpolar": [
           {
            "marker": {
             "line": {
              "color": "#E5ECF6",
              "width": 0.5
             },
             "pattern": {
              "fillmode": "overlay",
              "size": 10,
              "solidity": 0.2
             }
            },
            "type": "barpolar"
           }
          ],
          "carpet": [
           {
            "aaxis": {
             "endlinecolor": "#2a3f5f",
             "gridcolor": "white",
             "linecolor": "white",
             "minorgridcolor": "white",
             "startlinecolor": "#2a3f5f"
            },
            "baxis": {
             "endlinecolor": "#2a3f5f",
             "gridcolor": "white",
             "linecolor": "white",
             "minorgridcolor": "white",
             "startlinecolor": "#2a3f5f"
            },
            "type": "carpet"
           }
          ],
          "choropleth": [
           {
            "colorbar": {
             "outlinewidth": 0,
             "ticks": ""
            },
            "type": "choropleth"
           }
          ],
          "contour": [
           {
            "colorbar": {
             "outlinewidth": 0,
             "ticks": ""
            },
            "colorscale": [
             [
              0.0,
              "#0d0887"
             ],
             [
              0.1111111111111111,
              "#46039f"
             ],
             [
              0.2222222222222222,
              "#7201a8"
             ],
             [
              0.3333333333333333,
              "#9c179e"
             ],
             [
              0.4444444444444444,
              "#bd3786"
             ],
             [
              0.5555555555555556,
              "#d8576b"
             ],
             [
              0.6666666666666666,
              "#ed7953"
             ],
             [
              0.7777777777777778,
              "#fb9f3a"
             ],
             [
              0.8888888888888888,
              "#fdca26"
             ],
             [
              1.0,
              "#f0f921"
             ]
            ],
            "type": "contour"
           }
          ],
          "contourcarpet": [
           {
            "colorbar": {
             "outlinewidth": 0,
             "ticks": ""
            },
            "type": "contourcarpet"
           }
          ],
          "heatmap": [
           {
            "colorbar": {
             "outlinewidth": 0,
             "ticks": ""
            },
            "colorscale": [
             [
              0.0,
              "#0d0887"
             ],
             [
              0.1111111111111111,
              "#46039f"
             ],
             [
              0.2222222222222222,
              "#7201a8"
             ],
             [
              0.3333333333333333,
              "#9c179e"
             ],
             [
              0.4444444444444444,
              "#bd3786"
             ],
             [
              0.5555555555555556,
              "#d8576b"
             ],
             [
              0.6666666666666666,
              "#ed7953"
             ],
             [
              0.7777777777777778,
              "#fb9f3a"
             ],
             [
              0.8888888888888888,
              "#fdca26"
             ],
             [
              1.0,
              "#f0f921"
             ]
            ],
            "type": "heatmap"
           }
          ],
          "heatmapgl": [
           {
            "colorbar": {
             "outlinewidth": 0,
             "ticks": ""
            },
            "colorscale": [
             [
              0.0,
              "#0d0887"
             ],
             [
              0.1111111111111111,
              "#46039f"
             ],
             [
              0.2222222222222222,
              "#7201a8"
             ],
             [
              0.3333333333333333,
              "#9c179e"
             ],
             [
              0.4444444444444444,
              "#bd3786"
             ],
             [
              0.5555555555555556,
              "#d8576b"
             ],
             [
              0.6666666666666666,
              "#ed7953"
             ],
             [
              0.7777777777777778,
              "#fb9f3a"
             ],
             [
              0.8888888888888888,
              "#fdca26"
             ],
             [
              1.0,
              "#f0f921"
             ]
            ],
            "type": "heatmapgl"
           }
          ],
          "histogram": [
           {
            "marker": {
             "pattern": {
              "fillmode": "overlay",
              "size": 10,
              "solidity": 0.2
             }
            },
            "type": "histogram"
           }
          ],
          "histogram2d": [
           {
            "colorbar": {
             "outlinewidth": 0,
             "ticks": ""
            },
            "colorscale": [
             [
              0.0,
              "#0d0887"
             ],
             [
              0.1111111111111111,
              "#46039f"
             ],
             [
              0.2222222222222222,
              "#7201a8"
             ],
             [
              0.3333333333333333,
              "#9c179e"
             ],
             [
              0.4444444444444444,
              "#bd3786"
             ],
             [
              0.5555555555555556,
              "#d8576b"
             ],
             [
              0.6666666666666666,
              "#ed7953"
             ],
             [
              0.7777777777777778,
              "#fb9f3a"
             ],
             [
              0.8888888888888888,
              "#fdca26"
             ],
             [
              1.0,
              "#f0f921"
             ]
            ],
            "type": "histogram2d"
           }
          ],
          "histogram2dcontour": [
           {
            "colorbar": {
             "outlinewidth": 0,
             "ticks": ""
            },
            "colorscale": [
             [
              0.0,
              "#0d0887"
             ],
             [
              0.1111111111111111,
              "#46039f"
             ],
             [
              0.2222222222222222,
              "#7201a8"
             ],
             [
              0.3333333333333333,
              "#9c179e"
             ],
             [
              0.4444444444444444,
              "#bd3786"
             ],
             [
              0.5555555555555556,
              "#d8576b"
             ],
             [
              0.6666666666666666,
              "#ed7953"
             ],
             [
              0.7777777777777778,
              "#fb9f3a"
             ],
             [
              0.8888888888888888,
              "#fdca26"
             ],
             [
              1.0,
              "#f0f921"
             ]
            ],
            "type": "histogram2dcontour"
           }
          ],
          "mesh3d": [
           {
            "colorbar": {
             "outlinewidth": 0,
             "ticks": ""
            },
            "type": "mesh3d"
           }
          ],
          "parcoords": [
           {
            "line": {
             "colorbar": {
              "outlinewidth": 0,
              "ticks": ""
             }
            },
            "type": "parcoords"
           }
          ],
          "pie": [
           {
            "automargin": true,
            "type": "pie"
           }
          ],
          "scatter": [
           {
            "fillpattern": {
             "fillmode": "overlay",
             "size": 10,
             "solidity": 0.2
            },
            "type": "scatter"
           }
          ],
          "scatter3d": [
           {
            "line": {
             "colorbar": {
              "outlinewidth": 0,
              "ticks": ""
             }
            },
            "marker": {
             "colorbar": {
              "outlinewidth": 0,
              "ticks": ""
             }
            },
            "type": "scatter3d"
           }
          ],
          "scattercarpet": [
           {
            "marker": {
             "colorbar": {
              "outlinewidth": 0,
              "ticks": ""
             }
            },
            "type": "scattercarpet"
           }
          ],
          "scattergeo": [
           {
            "marker": {
             "colorbar": {
              "outlinewidth": 0,
              "ticks": ""
             }
            },
            "type": "scattergeo"
           }
          ],
          "scattergl": [
           {
            "marker": {
             "colorbar": {
              "outlinewidth": 0,
              "ticks": ""
             }
            },
            "type": "scattergl"
           }
          ],
          "scattermapbox": [
           {
            "marker": {
             "colorbar": {
              "outlinewidth": 0,
              "ticks": ""
             }
            },
            "type": "scattermapbox"
           }
          ],
          "scatterpolar": [
           {
            "marker": {
             "colorbar": {
              "outlinewidth": 0,
              "ticks": ""
             }
            },
            "type": "scatterpolar"
           }
          ],
          "scatterpolargl": [
           {
            "marker": {
             "colorbar": {
              "outlinewidth": 0,
              "ticks": ""
             }
            },
            "type": "scatterpolargl"
           }
          ],
          "scatterternary": [
           {
            "marker": {
             "colorbar": {
              "outlinewidth": 0,
              "ticks": ""
             }
            },
            "type": "scatterternary"
           }
          ],
          "surface": [
           {
            "colorbar": {
             "outlinewidth": 0,
             "ticks": ""
            },
            "colorscale": [
             [
              0.0,
              "#0d0887"
             ],
             [
              0.1111111111111111,
              "#46039f"
             ],
             [
              0.2222222222222222,
              "#7201a8"
             ],
             [
              0.3333333333333333,
              "#9c179e"
             ],
             [
              0.4444444444444444,
              "#bd3786"
             ],
             [
              0.5555555555555556,
              "#d8576b"
             ],
             [
              0.6666666666666666,
              "#ed7953"
             ],
             [
              0.7777777777777778,
              "#fb9f3a"
             ],
             [
              0.8888888888888888,
              "#fdca26"
             ],
             [
              1.0,
              "#f0f921"
             ]
            ],
            "type": "surface"
           }
          ],
          "table": [
           {
            "cells": {
             "fill": {
              "color": "#EBF0F8"
             },
             "line": {
              "color": "white"
             }
            },
            "header": {
             "fill": {
              "color": "#C8D4E3"
             },
             "line": {
              "color": "white"
             }
            },
            "type": "table"
           }
          ]
         },
         "layout": {
          "annotationdefaults": {
           "arrowcolor": "#2a3f5f",
           "arrowhead": 0,
           "arrowwidth": 1
          },
          "autotypenumbers": "strict",
          "coloraxis": {
           "colorbar": {
            "outlinewidth": 0,
            "ticks": ""
           }
          },
          "colorscale": {
           "diverging": [
            [
             0,
             "#8e0152"
            ],
            [
             0.1,
             "#c51b7d"
            ],
            [
             0.2,
             "#de77ae"
            ],
            [
             0.3,
             "#f1b6da"
            ],
            [
             0.4,
             "#fde0ef"
            ],
            [
             0.5,
             "#f7f7f7"
            ],
            [
             0.6,
             "#e6f5d0"
            ],
            [
             0.7,
             "#b8e186"
            ],
            [
             0.8,
             "#7fbc41"
            ],
            [
             0.9,
             "#4d9221"
            ],
            [
             1,
             "#276419"
            ]
           ],
           "sequential": [
            [
             0.0,
             "#0d0887"
            ],
            [
             0.1111111111111111,
             "#46039f"
            ],
            [
             0.2222222222222222,
             "#7201a8"
            ],
            [
             0.3333333333333333,
             "#9c179e"
            ],
            [
             0.4444444444444444,
             "#bd3786"
            ],
            [
             0.5555555555555556,
             "#d8576b"
            ],
            [
             0.6666666666666666,
             "#ed7953"
            ],
            [
             0.7777777777777778,
             "#fb9f3a"
            ],
            [
             0.8888888888888888,
             "#fdca26"
            ],
            [
             1.0,
             "#f0f921"
            ]
           ],
           "sequentialminus": [
            [
             0.0,
             "#0d0887"
            ],
            [
             0.1111111111111111,
             "#46039f"
            ],
            [
             0.2222222222222222,
             "#7201a8"
            ],
            [
             0.3333333333333333,
             "#9c179e"
            ],
            [
             0.4444444444444444,
             "#bd3786"
            ],
            [
             0.5555555555555556,
             "#d8576b"
            ],
            [
             0.6666666666666666,
             "#ed7953"
            ],
            [
             0.7777777777777778,
             "#fb9f3a"
            ],
            [
             0.8888888888888888,
             "#fdca26"
            ],
            [
             1.0,
             "#f0f921"
            ]
           ]
          },
          "colorway": [
           "#636efa",
           "#EF553B",
           "#00cc96",
           "#ab63fa",
           "#FFA15A",
           "#19d3f3",
           "#FF6692",
           "#B6E880",
           "#FF97FF",
           "#FECB52"
          ],
          "font": {
           "color": "#2a3f5f"
          },
          "geo": {
           "bgcolor": "white",
           "lakecolor": "white",
           "landcolor": "#E5ECF6",
           "showlakes": true,
           "showland": true,
           "subunitcolor": "white"
          },
          "hoverlabel": {
           "align": "left"
          },
          "hovermode": "closest",
          "mapbox": {
           "style": "light"
          },
          "paper_bgcolor": "white",
          "plot_bgcolor": "#E5ECF6",
          "polar": {
           "angularaxis": {
            "gridcolor": "white",
            "linecolor": "white",
            "ticks": ""
           },
           "bgcolor": "#E5ECF6",
           "radialaxis": {
            "gridcolor": "white",
            "linecolor": "white",
            "ticks": ""
           }
          },
          "scene": {
           "xaxis": {
            "backgroundcolor": "#E5ECF6",
            "gridcolor": "white",
            "gridwidth": 2,
            "linecolor": "white",
            "showbackground": true,
            "ticks": "",
            "zerolinecolor": "white"
           },
           "yaxis": {
            "backgroundcolor": "#E5ECF6",
            "gridcolor": "white",
            "gridwidth": 2,
            "linecolor": "white",
            "showbackground": true,
            "ticks": "",
            "zerolinecolor": "white"
           },
           "zaxis": {
            "backgroundcolor": "#E5ECF6",
            "gridcolor": "white",
            "gridwidth": 2,
            "linecolor": "white",
            "showbackground": true,
            "ticks": "",
            "zerolinecolor": "white"
           }
          },
          "shapedefaults": {
           "line": {
            "color": "#2a3f5f"
           }
          },
          "ternary": {
           "aaxis": {
            "gridcolor": "white",
            "linecolor": "white",
            "ticks": ""
           },
           "baxis": {
            "gridcolor": "white",
            "linecolor": "white",
            "ticks": ""
           },
           "bgcolor": "#E5ECF6",
           "caxis": {
            "gridcolor": "white",
            "linecolor": "white",
            "ticks": ""
           }
          },
          "title": {
           "x": 0.05
          },
          "xaxis": {
           "automargin": true,
           "gridcolor": "white",
           "linecolor": "white",
           "ticks": "",
           "title": {
            "standoff": 15
           },
           "zerolinecolor": "white",
           "zerolinewidth": 2
          },
          "yaxis": {
           "automargin": true,
           "gridcolor": "white",
           "linecolor": "white",
           "ticks": "",
           "title": {
            "standoff": 15
           },
           "zerolinecolor": "white",
           "zerolinewidth": 2
          }
         }
        }
       }
      },
      "text/html": [
       "<div>                            <div id=\"33d48a1d-3bd6-4921-a22b-04016ba9f705\" class=\"plotly-graph-div\" style=\"height:525px; width:100%;\"></div>            <script type=\"text/javascript\">                require([\"plotly\"], function(Plotly) {                    window.PLOTLYENV=window.PLOTLYENV || {};                                    if (document.getElementById(\"33d48a1d-3bd6-4921-a22b-04016ba9f705\")) {                    Plotly.newPlot(                        \"33d48a1d-3bd6-4921-a22b-04016ba9f705\",                        [{\"labels\":[\"Not Fraud\",\"Fraud\"],\"values\":[6354407,8213],\"type\":\"pie\"}],                        {\"template\":{\"data\":{\"histogram2dcontour\":[{\"type\":\"histogram2dcontour\",\"colorbar\":{\"outlinewidth\":0,\"ticks\":\"\"},\"colorscale\":[[0.0,\"#0d0887\"],[0.1111111111111111,\"#46039f\"],[0.2222222222222222,\"#7201a8\"],[0.3333333333333333,\"#9c179e\"],[0.4444444444444444,\"#bd3786\"],[0.5555555555555556,\"#d8576b\"],[0.6666666666666666,\"#ed7953\"],[0.7777777777777778,\"#fb9f3a\"],[0.8888888888888888,\"#fdca26\"],[1.0,\"#f0f921\"]]}],\"choropleth\":[{\"type\":\"choropleth\",\"colorbar\":{\"outlinewidth\":0,\"ticks\":\"\"}}],\"histogram2d\":[{\"type\":\"histogram2d\",\"colorbar\":{\"outlinewidth\":0,\"ticks\":\"\"},\"colorscale\":[[0.0,\"#0d0887\"],[0.1111111111111111,\"#46039f\"],[0.2222222222222222,\"#7201a8\"],[0.3333333333333333,\"#9c179e\"],[0.4444444444444444,\"#bd3786\"],[0.5555555555555556,\"#d8576b\"],[0.6666666666666666,\"#ed7953\"],[0.7777777777777778,\"#fb9f3a\"],[0.8888888888888888,\"#fdca26\"],[1.0,\"#f0f921\"]]}],\"heatmap\":[{\"type\":\"heatmap\",\"colorbar\":{\"outlinewidth\":0,\"ticks\":\"\"},\"colorscale\":[[0.0,\"#0d0887\"],[0.1111111111111111,\"#46039f\"],[0.2222222222222222,\"#7201a8\"],[0.3333333333333333,\"#9c179e\"],[0.4444444444444444,\"#bd3786\"],[0.5555555555555556,\"#d8576b\"],[0.6666666666666666,\"#ed7953\"],[0.7777777777777778,\"#fb9f3a\"],[0.8888888888888888,\"#fdca26\"],[1.0,\"#f0f921\"]]}],\"heatmapgl\":[{\"type\":\"heatmapgl\",\"colorbar\":{\"outlinewidth\":0,\"ticks\":\"\"},\"colorscale\":[[0.0,\"#0d0887\"],[0.1111111111111111,\"#46039f\"],[0.2222222222222222,\"#7201a8\"],[0.3333333333333333,\"#9c179e\"],[0.4444444444444444,\"#bd3786\"],[0.5555555555555556,\"#d8576b\"],[0.6666666666666666,\"#ed7953\"],[0.7777777777777778,\"#fb9f3a\"],[0.8888888888888888,\"#fdca26\"],[1.0,\"#f0f921\"]]}],\"contourcarpet\":[{\"type\":\"contourcarpet\",\"colorbar\":{\"outlinewidth\":0,\"ticks\":\"\"}}],\"contour\":[{\"type\":\"contour\",\"colorbar\":{\"outlinewidth\":0,\"ticks\":\"\"},\"colorscale\":[[0.0,\"#0d0887\"],[0.1111111111111111,\"#46039f\"],[0.2222222222222222,\"#7201a8\"],[0.3333333333333333,\"#9c179e\"],[0.4444444444444444,\"#bd3786\"],[0.5555555555555556,\"#d8576b\"],[0.6666666666666666,\"#ed7953\"],[0.7777777777777778,\"#fb9f3a\"],[0.8888888888888888,\"#fdca26\"],[1.0,\"#f0f921\"]]}],\"surface\":[{\"type\":\"surface\",\"colorbar\":{\"outlinewidth\":0,\"ticks\":\"\"},\"colorscale\":[[0.0,\"#0d0887\"],[0.1111111111111111,\"#46039f\"],[0.2222222222222222,\"#7201a8\"],[0.3333333333333333,\"#9c179e\"],[0.4444444444444444,\"#bd3786\"],[0.5555555555555556,\"#d8576b\"],[0.6666666666666666,\"#ed7953\"],[0.7777777777777778,\"#fb9f3a\"],[0.8888888888888888,\"#fdca26\"],[1.0,\"#f0f921\"]]}],\"mesh3d\":[{\"type\":\"mesh3d\",\"colorbar\":{\"outlinewidth\":0,\"ticks\":\"\"}}],\"scatter\":[{\"fillpattern\":{\"fillmode\":\"overlay\",\"size\":10,\"solidity\":0.2},\"type\":\"scatter\"}],\"parcoords\":[{\"type\":\"parcoords\",\"line\":{\"colorbar\":{\"outlinewidth\":0,\"ticks\":\"\"}}}],\"scatterpolargl\":[{\"type\":\"scatterpolargl\",\"marker\":{\"colorbar\":{\"outlinewidth\":0,\"ticks\":\"\"}}}],\"bar\":[{\"error_x\":{\"color\":\"#2a3f5f\"},\"error_y\":{\"color\":\"#2a3f5f\"},\"marker\":{\"line\":{\"color\":\"#E5ECF6\",\"width\":0.5},\"pattern\":{\"fillmode\":\"overlay\",\"size\":10,\"solidity\":0.2}},\"type\":\"bar\"}],\"scattergeo\":[{\"type\":\"scattergeo\",\"marker\":{\"colorbar\":{\"outlinewidth\":0,\"ticks\":\"\"}}}],\"scatterpolar\":[{\"type\":\"scatterpolar\",\"marker\":{\"colorbar\":{\"outlinewidth\":0,\"ticks\":\"\"}}}],\"histogram\":[{\"marker\":{\"pattern\":{\"fillmode\":\"overlay\",\"size\":10,\"solidity\":0.2}},\"type\":\"histogram\"}],\"scattergl\":[{\"type\":\"scattergl\",\"marker\":{\"colorbar\":{\"outlinewidth\":0,\"ticks\":\"\"}}}],\"scatter3d\":[{\"type\":\"scatter3d\",\"line\":{\"colorbar\":{\"outlinewidth\":0,\"ticks\":\"\"}},\"marker\":{\"colorbar\":{\"outlinewidth\":0,\"ticks\":\"\"}}}],\"scattermapbox\":[{\"type\":\"scattermapbox\",\"marker\":{\"colorbar\":{\"outlinewidth\":0,\"ticks\":\"\"}}}],\"scatterternary\":[{\"type\":\"scatterternary\",\"marker\":{\"colorbar\":{\"outlinewidth\":0,\"ticks\":\"\"}}}],\"scattercarpet\":[{\"type\":\"scattercarpet\",\"marker\":{\"colorbar\":{\"outlinewidth\":0,\"ticks\":\"\"}}}],\"carpet\":[{\"aaxis\":{\"endlinecolor\":\"#2a3f5f\",\"gridcolor\":\"white\",\"linecolor\":\"white\",\"minorgridcolor\":\"white\",\"startlinecolor\":\"#2a3f5f\"},\"baxis\":{\"endlinecolor\":\"#2a3f5f\",\"gridcolor\":\"white\",\"linecolor\":\"white\",\"minorgridcolor\":\"white\",\"startlinecolor\":\"#2a3f5f\"},\"type\":\"carpet\"}],\"table\":[{\"cells\":{\"fill\":{\"color\":\"#EBF0F8\"},\"line\":{\"color\":\"white\"}},\"header\":{\"fill\":{\"color\":\"#C8D4E3\"},\"line\":{\"color\":\"white\"}},\"type\":\"table\"}],\"barpolar\":[{\"marker\":{\"line\":{\"color\":\"#E5ECF6\",\"width\":0.5},\"pattern\":{\"fillmode\":\"overlay\",\"size\":10,\"solidity\":0.2}},\"type\":\"barpolar\"}],\"pie\":[{\"automargin\":true,\"type\":\"pie\"}]},\"layout\":{\"autotypenumbers\":\"strict\",\"colorway\":[\"#636efa\",\"#EF553B\",\"#00cc96\",\"#ab63fa\",\"#FFA15A\",\"#19d3f3\",\"#FF6692\",\"#B6E880\",\"#FF97FF\",\"#FECB52\"],\"font\":{\"color\":\"#2a3f5f\"},\"hovermode\":\"closest\",\"hoverlabel\":{\"align\":\"left\"},\"paper_bgcolor\":\"white\",\"plot_bgcolor\":\"#E5ECF6\",\"polar\":{\"bgcolor\":\"#E5ECF6\",\"angularaxis\":{\"gridcolor\":\"white\",\"linecolor\":\"white\",\"ticks\":\"\"},\"radialaxis\":{\"gridcolor\":\"white\",\"linecolor\":\"white\",\"ticks\":\"\"}},\"ternary\":{\"bgcolor\":\"#E5ECF6\",\"aaxis\":{\"gridcolor\":\"white\",\"linecolor\":\"white\",\"ticks\":\"\"},\"baxis\":{\"gridcolor\":\"white\",\"linecolor\":\"white\",\"ticks\":\"\"},\"caxis\":{\"gridcolor\":\"white\",\"linecolor\":\"white\",\"ticks\":\"\"}},\"coloraxis\":{\"colorbar\":{\"outlinewidth\":0,\"ticks\":\"\"}},\"colorscale\":{\"sequential\":[[0.0,\"#0d0887\"],[0.1111111111111111,\"#46039f\"],[0.2222222222222222,\"#7201a8\"],[0.3333333333333333,\"#9c179e\"],[0.4444444444444444,\"#bd3786\"],[0.5555555555555556,\"#d8576b\"],[0.6666666666666666,\"#ed7953\"],[0.7777777777777778,\"#fb9f3a\"],[0.8888888888888888,\"#fdca26\"],[1.0,\"#f0f921\"]],\"sequentialminus\":[[0.0,\"#0d0887\"],[0.1111111111111111,\"#46039f\"],[0.2222222222222222,\"#7201a8\"],[0.3333333333333333,\"#9c179e\"],[0.4444444444444444,\"#bd3786\"],[0.5555555555555556,\"#d8576b\"],[0.6666666666666666,\"#ed7953\"],[0.7777777777777778,\"#fb9f3a\"],[0.8888888888888888,\"#fdca26\"],[1.0,\"#f0f921\"]],\"diverging\":[[0,\"#8e0152\"],[0.1,\"#c51b7d\"],[0.2,\"#de77ae\"],[0.3,\"#f1b6da\"],[0.4,\"#fde0ef\"],[0.5,\"#f7f7f7\"],[0.6,\"#e6f5d0\"],[0.7,\"#b8e186\"],[0.8,\"#7fbc41\"],[0.9,\"#4d9221\"],[1,\"#276419\"]]},\"xaxis\":{\"gridcolor\":\"white\",\"linecolor\":\"white\",\"ticks\":\"\",\"title\":{\"standoff\":15},\"zerolinecolor\":\"white\",\"automargin\":true,\"zerolinewidth\":2},\"yaxis\":{\"gridcolor\":\"white\",\"linecolor\":\"white\",\"ticks\":\"\",\"title\":{\"standoff\":15},\"zerolinecolor\":\"white\",\"automargin\":true,\"zerolinewidth\":2},\"scene\":{\"xaxis\":{\"backgroundcolor\":\"#E5ECF6\",\"gridcolor\":\"white\",\"linecolor\":\"white\",\"showbackground\":true,\"ticks\":\"\",\"zerolinecolor\":\"white\",\"gridwidth\":2},\"yaxis\":{\"backgroundcolor\":\"#E5ECF6\",\"gridcolor\":\"white\",\"linecolor\":\"white\",\"showbackground\":true,\"ticks\":\"\",\"zerolinecolor\":\"white\",\"gridwidth\":2},\"zaxis\":{\"backgroundcolor\":\"#E5ECF6\",\"gridcolor\":\"white\",\"linecolor\":\"white\",\"showbackground\":true,\"ticks\":\"\",\"zerolinecolor\":\"white\",\"gridwidth\":2}},\"shapedefaults\":{\"line\":{\"color\":\"#2a3f5f\"}},\"annotationdefaults\":{\"arrowcolor\":\"#2a3f5f\",\"arrowhead\":0,\"arrowwidth\":1},\"geo\":{\"bgcolor\":\"white\",\"landcolor\":\"#E5ECF6\",\"subunitcolor\":\"white\",\"showland\":true,\"showlakes\":true,\"lakecolor\":\"white\"},\"title\":{\"x\":0.05},\"mapbox\":{\"style\":\"light\"}}}},                        {\"responsive\": true}                    ).then(function(){\n",
       "                            \n",
       "var gd = document.getElementById('33d48a1d-3bd6-4921-a22b-04016ba9f705');\n",
       "var x = new MutationObserver(function (mutations, observer) {{\n",
       "        var display = window.getComputedStyle(gd).display;\n",
       "        if (!display || display === 'none') {{\n",
       "            console.log([gd, 'removed!']);\n",
       "            Plotly.purge(gd);\n",
       "            observer.disconnect();\n",
       "        }}\n",
       "}});\n",
       "\n",
       "// Listen for the removal of the full notebook cells\n",
       "var notebookContainer = gd.closest('#notebook-container');\n",
       "if (notebookContainer) {{\n",
       "    x.observe(notebookContainer, {childList: true});\n",
       "}}\n",
       "\n",
       "// Listen for the clearing of the current output cell\n",
       "var outputEl = gd.closest('.output');\n",
       "if (outputEl) {{\n",
       "    x.observe(outputEl, {childList: true});\n",
       "}}\n",
       "\n",
       "                        })                };                });            </script>        </div>"
      ]
     },
     "metadata": {},
     "output_type": "display_data"
    }
   ],
   "source": [
    "#Check if data is balanced\n",
    "pie_chart = go.Figure(data=[go.Pie(labels=['Not Fraud','Fraud'], values=df['isFraud'].value_counts())])\n",
    "pie_chart.show()"
   ]
  },
  {
   "cell_type": "markdown",
   "id": "69404215",
   "metadata": {
    "papermill": {
     "duration": 0.012361,
     "end_time": "2022-10-13T07:55:26.007526",
     "exception": false,
     "start_time": "2022-10-13T07:55:25.995165",
     "status": "completed"
    },
    "tags": []
   },
   "source": [
    "# **Preprocessing & Feature Engineering**"
   ]
  },
  {
   "cell_type": "code",
   "execution_count": 9,
   "id": "d1c315f8",
   "metadata": {
    "execution": {
     "iopub.execute_input": "2022-10-13T07:55:26.034239Z",
     "iopub.status.busy": "2022-10-13T07:55:26.033288Z",
     "iopub.status.idle": "2022-10-13T07:55:26.038168Z",
     "shell.execute_reply": "2022-10-13T07:55:26.037357Z"
    },
    "papermill": {
     "duration": 0.020223,
     "end_time": "2022-10-13T07:55:26.040135",
     "exception": false,
     "start_time": "2022-10-13T07:55:26.019912",
     "status": "completed"
    },
    "tags": []
   },
   "outputs": [],
   "source": [
    "#Taking Subset of data\n",
    "df2 = df.head(60000)"
   ]
  },
  {
   "cell_type": "code",
   "execution_count": 10,
   "id": "76e824f6",
   "metadata": {
    "execution": {
     "iopub.execute_input": "2022-10-13T07:55:26.066780Z",
     "iopub.status.busy": "2022-10-13T07:55:26.066521Z",
     "iopub.status.idle": "2022-10-13T07:55:26.080796Z",
     "shell.execute_reply": "2022-10-13T07:55:26.079885Z"
    },
    "papermill": {
     "duration": 0.030327,
     "end_time": "2022-10-13T07:55:26.082847",
     "exception": false,
     "start_time": "2022-10-13T07:55:26.052520",
     "status": "completed"
    },
    "tags": []
   },
   "outputs": [],
   "source": [
    "#Create Functions for feature engineering\n",
    "#We need to check the changes in sender's and receiver's balance, and flag when inconsistent (will do)\n",
    "#We need to check if the amount debited from the sender, went into receiver's account, and flag if not correct\n",
    "#We have to set a threshold in transaction amount and flag if it goes over it.\n",
    "#We can create feature that says if the receiving account belongs to a merchant\n",
    "\n",
    "def flag(df):\n",
    "    df['actual_newbalanceDest'] = df['oldbalanceDest']+df['amount']  \n",
    "    for i,rows in df.iterrows():\n",
    "        if df.iloc[i]['actual_newbalanceDest'] == df.iloc[i]['newbalanceDest']:\n",
    "            df['balanceDest_flag'] = 0\n",
    "        else:\n",
    "            df['balanceDest_flag'] = 1\n",
    "\n",
    "# def true_balance(df):\n",
    "#     df['diff_sender'] = df['oldbalanceOrg']-df['newbalanceOrig']\n",
    "#     df['diff_sender'] = df['diff_sender'].astype(int)\n",
    "#     for i in df['diff_sender']:\n",
    "#         if df['diff_sender']-df  \n",
    "    \n",
    "#     df['diff_receiver'] = df['oldbalanceDest']-df['newbalanceDest']\n",
    "            \n",
    "def thresh_flag(df):\n",
    "    for i in df['amount']:\n",
    "        if i>200000:\n",
    "            df['threshold_flag'] = 1\n",
    "        else:\n",
    "            df['threshold_flag'] = 0\n",
    "            \n",
    "def detect_M(df):\n",
    "    x = ['M']\n",
    "    x2 = list(map(df['nameDest'].str.contains, x))\n",
    "    df['Merchant'] = np.select(x2, '1', '0')\n",
    "    \n",
    "#Function for efficient memory use\n",
    "def reduce_memory(df, verbose=True):\n",
    "    numerics = ['int16', 'int32', 'int64', 'float16', 'float32', 'float64']\n",
    "    start_mem = df.memory_usage().sum() / 1024**2    \n",
    "    for col in df.columns:\n",
    "        col_type = df[col].dtypes\n",
    "        if col_type in numerics:\n",
    "            c_min = df[col].min()\n",
    "            c_max = df[col].max()\n",
    "            if str(col_type)[:3] == 'int':\n",
    "                if c_min > np.iinfo(np.int8).min and c_max < np.iinfo(np.int8).max:\n",
    "                    df[col] = df[col].astype(np.int8)\n",
    "                elif c_min > np.iinfo(np.int16).min and c_max < np.iinfo(np.int16).max:\n",
    "                       df[col] = df[col].astype(np.int16)\n",
    "                elif c_min > np.iinfo(np.int32).min and c_max < np.iinfo(np.int32).max:\n",
    "                    df[col] = df[col].astype(np.int32)\n",
    "                elif c_min > np.iinfo(np.int64).min and c_max < np.iinfo(np.int64).max:\n",
    "                    df[col] = df[col].astype(np.int64)  \n",
    "            else:\n",
    "                if c_min > np.finfo(np.float16).min and c_max < np.finfo(np.float16).max:\n",
    "                    df[col] = df[col].astype(np.float32)\n",
    "                elif c_min > np.finfo(np.float32).min and c_max < np.finfo(np.float32).max:\n",
    "                    df[col] = df[col].astype(np.float32)\n",
    "                else:\n",
    "                    df[col] = df[col].astype(np.float64)    \n",
    "    end_mem = df.memory_usage().sum() / 1024**2\n",
    "    if verbose: print('Mem. usage decreased to {:5.2f} Mb ({:.1f}% reduction)'.format(end_mem, 100 * (start_mem - end_mem) / start_mem))\n",
    "    return df"
   ]
  },
  {
   "cell_type": "code",
   "execution_count": 11,
   "id": "573dbcaa",
   "metadata": {
    "execution": {
     "iopub.execute_input": "2022-10-13T07:55:26.109477Z",
     "iopub.status.busy": "2022-10-13T07:55:26.108723Z",
     "iopub.status.idle": "2022-10-13T07:56:03.306102Z",
     "shell.execute_reply": "2022-10-13T07:56:03.304982Z"
    },
    "papermill": {
     "duration": 37.213208,
     "end_time": "2022-10-13T07:56:03.308703",
     "exception": false,
     "start_time": "2022-10-13T07:55:26.095495",
     "status": "completed"
    },
    "tags": []
   },
   "outputs": [
    {
     "name": "stdout",
     "output_type": "stream",
     "text": [
      "Mem. usage decreased to  2.69 Mb (46.6% reduction)\n"
     ]
    }
   ],
   "source": [
    "#Memory reduction in df and feature engineering\n",
    "reduce_memory(df2)\n",
    "flag(df2)\n",
    "thresh_flag(df2)\n",
    "detect_M(df2)"
   ]
  },
  {
   "cell_type": "code",
   "execution_count": 12,
   "id": "13a362aa",
   "metadata": {
    "execution": {
     "iopub.execute_input": "2022-10-13T07:56:03.337464Z",
     "iopub.status.busy": "2022-10-13T07:56:03.336779Z",
     "iopub.status.idle": "2022-10-13T07:56:03.342391Z",
     "shell.execute_reply": "2022-10-13T07:56:03.341536Z"
    },
    "papermill": {
     "duration": 0.021913,
     "end_time": "2022-10-13T07:56:03.344624",
     "exception": false,
     "start_time": "2022-10-13T07:56:03.322711",
     "status": "completed"
    },
    "tags": []
   },
   "outputs": [],
   "source": [
    "# #Fucntion to calculate Information value with WoE - weight of evidence (not ready)\n",
    "\n",
    "# def information_value(df, feature, target, pr=0):\n",
    "\n",
    "#     lst = []\n",
    "\n",
    "#     for i in range(df[feature].nunique()):\n",
    "#         val = list(df[feature].unique())[i]\n",
    "#         lst.append([feature, val, df[df[feature] == val].count()[feature], df[(df[feature] == val) & (df[target] == 1)].count()[feature]])\n",
    "\n",
    "#     data = pd.DataFrame(lst, columns=['Variable', 'Value', 'All', 'Bad'])\n",
    "#     data = data[data['Bad'] > 0]\n",
    "\n",
    "#     data['Share'] = data['All'] / data['All'].sum()\n",
    "#     data['Bad Rate'] = data['Bad'] / data['All']\n",
    "#     data['Distribution Good'] = (data['All'] - data['Bad']) / (data['All'].sum() - data['Bad'].sum())\n",
    "#     data['Distribution Bad'] = data['Bad'] / data['Bad'].sum()\n",
    "#     data['WoE'] = np.log(data['Distribution Good'] / data['Distribution Bad'])\n",
    "#     data['IV'] = (data['WoE'] * (data['Distribution Good'] - data['Distribution Bad'])).sum()\n",
    "\n",
    "#     data = data.sort_values(by=['Variable', 'Value'], ascending=True)\n",
    "\n",
    "#     if pr == 1:\n",
    "#         print(data)\n",
    "\n",
    "#     return data['IV'].values[0]"
   ]
  },
  {
   "cell_type": "code",
   "execution_count": 13,
   "id": "a0a158b1",
   "metadata": {
    "execution": {
     "iopub.execute_input": "2022-10-13T07:56:03.371404Z",
     "iopub.status.busy": "2022-10-13T07:56:03.371135Z",
     "iopub.status.idle": "2022-10-13T07:56:03.674233Z",
     "shell.execute_reply": "2022-10-13T07:56:03.673077Z"
    },
    "papermill": {
     "duration": 0.322085,
     "end_time": "2022-10-13T07:56:03.679763",
     "exception": false,
     "start_time": "2022-10-13T07:56:03.357678",
     "status": "completed"
    },
    "tags": []
   },
   "outputs": [
    {
     "name": "stdout",
     "output_type": "stream",
     "text": [
      "<class 'pandas.core.frame.DataFrame'>\n",
      "RangeIndex: 60000 entries, 0 to 59999\n",
      "Data columns (total 19 columns):\n",
      " #   Column                 Non-Null Count  Dtype  \n",
      "---  ------                 --------------  -----  \n",
      " 0   step                   60000 non-null  int8   \n",
      " 1   amount                 60000 non-null  float32\n",
      " 2   nameOrig               60000 non-null  int64  \n",
      " 3   oldbalanceOrg          60000 non-null  float32\n",
      " 4   newbalanceOrig         60000 non-null  float32\n",
      " 5   nameDest               60000 non-null  int64  \n",
      " 6   oldbalanceDest         60000 non-null  float32\n",
      " 7   newbalanceDest         60000 non-null  float32\n",
      " 8   isFraud                60000 non-null  int8   \n",
      " 9   isFlaggedFraud         60000 non-null  int8   \n",
      " 10  actual_newbalanceDest  60000 non-null  float32\n",
      " 11  balanceDest_flag       60000 non-null  int64  \n",
      " 12  threshold_flag         60000 non-null  int64  \n",
      " 13  Merchant               60000 non-null  int64  \n",
      " 14  type_CASH_IN           60000 non-null  uint8  \n",
      " 15  type_CASH_OUT          60000 non-null  uint8  \n",
      " 16  type_DEBIT             60000 non-null  uint8  \n",
      " 17  type_PAYMENT           60000 non-null  uint8  \n",
      " 18  type_TRANSFER          60000 non-null  uint8  \n",
      "dtypes: float32(6), int64(5), int8(3), uint8(5)\n",
      "memory usage: 4.1 MB\n"
     ]
    }
   ],
   "source": [
    "#Encoding the rest of the object type features\n",
    "#One-hot encoding for type which has 4 differnet values\n",
    "#Label encoding for nameOrig and nameDest to avoid curse of dimensionality(if we use one hot encoding here, there will be too many dims)\n",
    "from sklearn import preprocessing\n",
    "\n",
    "df2 = pd.get_dummies(data = df2, columns=['type'])\n",
    "lenc = preprocessing.LabelEncoder()\n",
    "df2['nameOrig'] = lenc.fit_transform(df2['nameOrig'])\n",
    "df2['nameDest'] = lenc.fit_transform(df2['nameDest'])\n",
    "df2['Merchant'] = df2['Merchant'].astype(int)\n",
    "\n",
    "df2.info()"
   ]
  },
  {
   "cell_type": "code",
   "execution_count": 14,
   "id": "e9ecd5da",
   "metadata": {
    "execution": {
     "iopub.execute_input": "2022-10-13T07:56:03.722079Z",
     "iopub.status.busy": "2022-10-13T07:56:03.721601Z",
     "iopub.status.idle": "2022-10-13T07:56:03.754095Z",
     "shell.execute_reply": "2022-10-13T07:56:03.753114Z"
    },
    "papermill": {
     "duration": 0.054581,
     "end_time": "2022-10-13T07:56:03.756764",
     "exception": false,
     "start_time": "2022-10-13T07:56:03.702183",
     "status": "completed"
    },
    "tags": []
   },
   "outputs": [
    {
     "data": {
      "text/html": [
       "<div>\n",
       "<style scoped>\n",
       "    .dataframe tbody tr th:only-of-type {\n",
       "        vertical-align: middle;\n",
       "    }\n",
       "\n",
       "    .dataframe tbody tr th {\n",
       "        vertical-align: top;\n",
       "    }\n",
       "\n",
       "    .dataframe thead th {\n",
       "        text-align: right;\n",
       "    }\n",
       "</style>\n",
       "<table border=\"1\" class=\"dataframe\">\n",
       "  <thead>\n",
       "    <tr style=\"text-align: right;\">\n",
       "      <th></th>\n",
       "      <th>step</th>\n",
       "      <th>amount</th>\n",
       "      <th>nameOrig</th>\n",
       "      <th>oldbalanceOrg</th>\n",
       "      <th>newbalanceOrig</th>\n",
       "      <th>nameDest</th>\n",
       "      <th>oldbalanceDest</th>\n",
       "      <th>newbalanceDest</th>\n",
       "      <th>isFraud</th>\n",
       "      <th>isFlaggedFraud</th>\n",
       "      <th>actual_newbalanceDest</th>\n",
       "      <th>balanceDest_flag</th>\n",
       "      <th>threshold_flag</th>\n",
       "      <th>Merchant</th>\n",
       "      <th>type_CASH_IN</th>\n",
       "      <th>type_CASH_OUT</th>\n",
       "      <th>type_DEBIT</th>\n",
       "      <th>type_PAYMENT</th>\n",
       "      <th>type_TRANSFER</th>\n",
       "    </tr>\n",
       "  </thead>\n",
       "  <tbody>\n",
       "    <tr>\n",
       "      <th>0</th>\n",
       "      <td>1</td>\n",
       "      <td>9839.639648</td>\n",
       "      <td>6987</td>\n",
       "      <td>170136.0</td>\n",
       "      <td>160296.359375</td>\n",
       "      <td>20974</td>\n",
       "      <td>0.00000</td>\n",
       "      <td>0.000</td>\n",
       "      <td>0</td>\n",
       "      <td>0</td>\n",
       "      <td>9839.639648</td>\n",
       "      <td>1</td>\n",
       "      <td>1</td>\n",
       "      <td>1</td>\n",
       "      <td>0</td>\n",
       "      <td>0</td>\n",
       "      <td>0</td>\n",
       "      <td>1</td>\n",
       "      <td>0</td>\n",
       "    </tr>\n",
       "    <tr>\n",
       "      <th>1</th>\n",
       "      <td>1</td>\n",
       "      <td>1864.280029</td>\n",
       "      <td>20537</td>\n",
       "      <td>21249.0</td>\n",
       "      <td>19384.720703</td>\n",
       "      <td>21795</td>\n",
       "      <td>0.00000</td>\n",
       "      <td>0.000</td>\n",
       "      <td>0</td>\n",
       "      <td>0</td>\n",
       "      <td>1864.280029</td>\n",
       "      <td>1</td>\n",
       "      <td>1</td>\n",
       "      <td>1</td>\n",
       "      <td>0</td>\n",
       "      <td>0</td>\n",
       "      <td>0</td>\n",
       "      <td>1</td>\n",
       "      <td>0</td>\n",
       "    </tr>\n",
       "    <tr>\n",
       "      <th>2</th>\n",
       "      <td>1</td>\n",
       "      <td>181.000000</td>\n",
       "      <td>9256</td>\n",
       "      <td>181.0</td>\n",
       "      <td>0.000000</td>\n",
       "      <td>6342</td>\n",
       "      <td>0.00000</td>\n",
       "      <td>0.000</td>\n",
       "      <td>1</td>\n",
       "      <td>0</td>\n",
       "      <td>181.000000</td>\n",
       "      <td>1</td>\n",
       "      <td>1</td>\n",
       "      <td>0</td>\n",
       "      <td>0</td>\n",
       "      <td>0</td>\n",
       "      <td>0</td>\n",
       "      <td>0</td>\n",
       "      <td>1</td>\n",
       "    </tr>\n",
       "    <tr>\n",
       "      <th>3</th>\n",
       "      <td>1</td>\n",
       "      <td>181.000000</td>\n",
       "      <td>54978</td>\n",
       "      <td>181.0</td>\n",
       "      <td>0.000000</td>\n",
       "      <td>5635</td>\n",
       "      <td>21182.00000</td>\n",
       "      <td>0.000</td>\n",
       "      <td>1</td>\n",
       "      <td>0</td>\n",
       "      <td>21363.000000</td>\n",
       "      <td>1</td>\n",
       "      <td>1</td>\n",
       "      <td>0</td>\n",
       "      <td>0</td>\n",
       "      <td>1</td>\n",
       "      <td>0</td>\n",
       "      <td>0</td>\n",
       "      <td>0</td>\n",
       "    </tr>\n",
       "    <tr>\n",
       "      <th>4</th>\n",
       "      <td>1</td>\n",
       "      <td>11668.139648</td>\n",
       "      <td>32338</td>\n",
       "      <td>41554.0</td>\n",
       "      <td>29885.859375</td>\n",
       "      <td>11118</td>\n",
       "      <td>0.00000</td>\n",
       "      <td>0.000</td>\n",
       "      <td>0</td>\n",
       "      <td>0</td>\n",
       "      <td>11668.139648</td>\n",
       "      <td>1</td>\n",
       "      <td>1</td>\n",
       "      <td>1</td>\n",
       "      <td>0</td>\n",
       "      <td>0</td>\n",
       "      <td>0</td>\n",
       "      <td>1</td>\n",
       "      <td>0</td>\n",
       "    </tr>\n",
       "    <tr>\n",
       "      <th>...</th>\n",
       "      <td>...</td>\n",
       "      <td>...</td>\n",
       "      <td>...</td>\n",
       "      <td>...</td>\n",
       "      <td>...</td>\n",
       "      <td>...</td>\n",
       "      <td>...</td>\n",
       "      <td>...</td>\n",
       "      <td>...</td>\n",
       "      <td>...</td>\n",
       "      <td>...</td>\n",
       "      <td>...</td>\n",
       "      <td>...</td>\n",
       "      <td>...</td>\n",
       "      <td>...</td>\n",
       "      <td>...</td>\n",
       "      <td>...</td>\n",
       "      <td>...</td>\n",
       "      <td>...</td>\n",
       "    </tr>\n",
       "    <tr>\n",
       "      <th>59995</th>\n",
       "      <td>9</td>\n",
       "      <td>16351.089844</td>\n",
       "      <td>13740</td>\n",
       "      <td>10503.0</td>\n",
       "      <td>26854.089844</td>\n",
       "      <td>4030</td>\n",
       "      <td>217578.84375</td>\n",
       "      <td>300883.000</td>\n",
       "      <td>0</td>\n",
       "      <td>0</td>\n",
       "      <td>233929.937500</td>\n",
       "      <td>1</td>\n",
       "      <td>1</td>\n",
       "      <td>0</td>\n",
       "      <td>1</td>\n",
       "      <td>0</td>\n",
       "      <td>0</td>\n",
       "      <td>0</td>\n",
       "      <td>0</td>\n",
       "    </tr>\n",
       "    <tr>\n",
       "      <th>59996</th>\n",
       "      <td>9</td>\n",
       "      <td>13690.230469</td>\n",
       "      <td>59239</td>\n",
       "      <td>181.0</td>\n",
       "      <td>0.000000</td>\n",
       "      <td>31216</td>\n",
       "      <td>0.00000</td>\n",
       "      <td>0.000</td>\n",
       "      <td>0</td>\n",
       "      <td>0</td>\n",
       "      <td>13690.230469</td>\n",
       "      <td>1</td>\n",
       "      <td>1</td>\n",
       "      <td>1</td>\n",
       "      <td>0</td>\n",
       "      <td>0</td>\n",
       "      <td>0</td>\n",
       "      <td>1</td>\n",
       "      <td>0</td>\n",
       "    </tr>\n",
       "    <tr>\n",
       "      <th>59997</th>\n",
       "      <td>9</td>\n",
       "      <td>163085.375000</td>\n",
       "      <td>41229</td>\n",
       "      <td>208223.0</td>\n",
       "      <td>371308.375000</td>\n",
       "      <td>5677</td>\n",
       "      <td>0.00000</td>\n",
       "      <td>0.000</td>\n",
       "      <td>0</td>\n",
       "      <td>0</td>\n",
       "      <td>163085.375000</td>\n",
       "      <td>1</td>\n",
       "      <td>1</td>\n",
       "      <td>0</td>\n",
       "      <td>1</td>\n",
       "      <td>0</td>\n",
       "      <td>0</td>\n",
       "      <td>0</td>\n",
       "      <td>0</td>\n",
       "    </tr>\n",
       "    <tr>\n",
       "      <th>59998</th>\n",
       "      <td>9</td>\n",
       "      <td>455970.281250</td>\n",
       "      <td>52819</td>\n",
       "      <td>72334.0</td>\n",
       "      <td>528304.250000</td>\n",
       "      <td>2411</td>\n",
       "      <td>16430.00000</td>\n",
       "      <td>0.000</td>\n",
       "      <td>0</td>\n",
       "      <td>0</td>\n",
       "      <td>472400.281250</td>\n",
       "      <td>1</td>\n",
       "      <td>1</td>\n",
       "      <td>0</td>\n",
       "      <td>1</td>\n",
       "      <td>0</td>\n",
       "      <td>0</td>\n",
       "      <td>0</td>\n",
       "      <td>0</td>\n",
       "    </tr>\n",
       "    <tr>\n",
       "      <th>59999</th>\n",
       "      <td>9</td>\n",
       "      <td>381786.093750</td>\n",
       "      <td>4284</td>\n",
       "      <td>13306.0</td>\n",
       "      <td>0.000000</td>\n",
       "      <td>5703</td>\n",
       "      <td>122174.09375</td>\n",
       "      <td>657387.125</td>\n",
       "      <td>0</td>\n",
       "      <td>0</td>\n",
       "      <td>503960.187500</td>\n",
       "      <td>1</td>\n",
       "      <td>1</td>\n",
       "      <td>0</td>\n",
       "      <td>0</td>\n",
       "      <td>1</td>\n",
       "      <td>0</td>\n",
       "      <td>0</td>\n",
       "      <td>0</td>\n",
       "    </tr>\n",
       "  </tbody>\n",
       "</table>\n",
       "<p>60000 rows × 19 columns</p>\n",
       "</div>"
      ],
      "text/plain": [
       "       step         amount  nameOrig  oldbalanceOrg  newbalanceOrig  nameDest  \\\n",
       "0         1    9839.639648      6987       170136.0   160296.359375     20974   \n",
       "1         1    1864.280029     20537        21249.0    19384.720703     21795   \n",
       "2         1     181.000000      9256          181.0        0.000000      6342   \n",
       "3         1     181.000000     54978          181.0        0.000000      5635   \n",
       "4         1   11668.139648     32338        41554.0    29885.859375     11118   \n",
       "...     ...            ...       ...            ...             ...       ...   \n",
       "59995     9   16351.089844     13740        10503.0    26854.089844      4030   \n",
       "59996     9   13690.230469     59239          181.0        0.000000     31216   \n",
       "59997     9  163085.375000     41229       208223.0   371308.375000      5677   \n",
       "59998     9  455970.281250     52819        72334.0   528304.250000      2411   \n",
       "59999     9  381786.093750      4284        13306.0        0.000000      5703   \n",
       "\n",
       "       oldbalanceDest  newbalanceDest  isFraud  isFlaggedFraud  \\\n",
       "0             0.00000           0.000        0               0   \n",
       "1             0.00000           0.000        0               0   \n",
       "2             0.00000           0.000        1               0   \n",
       "3         21182.00000           0.000        1               0   \n",
       "4             0.00000           0.000        0               0   \n",
       "...               ...             ...      ...             ...   \n",
       "59995    217578.84375      300883.000        0               0   \n",
       "59996         0.00000           0.000        0               0   \n",
       "59997         0.00000           0.000        0               0   \n",
       "59998     16430.00000           0.000        0               0   \n",
       "59999    122174.09375      657387.125        0               0   \n",
       "\n",
       "       actual_newbalanceDest  balanceDest_flag  threshold_flag  Merchant  \\\n",
       "0                9839.639648                 1               1         1   \n",
       "1                1864.280029                 1               1         1   \n",
       "2                 181.000000                 1               1         0   \n",
       "3               21363.000000                 1               1         0   \n",
       "4               11668.139648                 1               1         1   \n",
       "...                      ...               ...             ...       ...   \n",
       "59995          233929.937500                 1               1         0   \n",
       "59996           13690.230469                 1               1         1   \n",
       "59997          163085.375000                 1               1         0   \n",
       "59998          472400.281250                 1               1         0   \n",
       "59999          503960.187500                 1               1         0   \n",
       "\n",
       "       type_CASH_IN  type_CASH_OUT  type_DEBIT  type_PAYMENT  type_TRANSFER  \n",
       "0                 0              0           0             1              0  \n",
       "1                 0              0           0             1              0  \n",
       "2                 0              0           0             0              1  \n",
       "3                 0              1           0             0              0  \n",
       "4                 0              0           0             1              0  \n",
       "...             ...            ...         ...           ...            ...  \n",
       "59995             1              0           0             0              0  \n",
       "59996             0              0           0             1              0  \n",
       "59997             1              0           0             0              0  \n",
       "59998             1              0           0             0              0  \n",
       "59999             0              1           0             0              0  \n",
       "\n",
       "[60000 rows x 19 columns]"
      ]
     },
     "execution_count": 14,
     "metadata": {},
     "output_type": "execute_result"
    }
   ],
   "source": [
    "df2"
   ]
  },
  {
   "cell_type": "markdown",
   "id": "ba7f8cc0",
   "metadata": {
    "papermill": {
     "duration": 0.019219,
     "end_time": "2022-10-13T07:56:03.798574",
     "exception": false,
     "start_time": "2022-10-13T07:56:03.779355",
     "status": "completed"
    },
    "tags": []
   },
   "source": [
    "# **Preparing independent and dependent variables**"
   ]
  },
  {
   "cell_type": "code",
   "execution_count": 15,
   "id": "f73491b1",
   "metadata": {
    "execution": {
     "iopub.execute_input": "2022-10-13T07:56:03.838763Z",
     "iopub.status.busy": "2022-10-13T07:56:03.838327Z",
     "iopub.status.idle": "2022-10-13T07:56:03.850888Z",
     "shell.execute_reply": "2022-10-13T07:56:03.850018Z"
    },
    "papermill": {
     "duration": 0.035689,
     "end_time": "2022-10-13T07:56:03.853602",
     "exception": false,
     "start_time": "2022-10-13T07:56:03.817913",
     "status": "completed"
    },
    "tags": []
   },
   "outputs": [],
   "source": [
    "#Define dependent and independent variables\n",
    "df3 = df2.copy()\n",
    "y = df3['isFraud']\n",
    "X = df3.drop('isFraud', axis = 1)"
   ]
  },
  {
   "cell_type": "code",
   "execution_count": 16,
   "id": "c5cefa5c",
   "metadata": {
    "execution": {
     "iopub.execute_input": "2022-10-13T07:56:03.901687Z",
     "iopub.status.busy": "2022-10-13T07:56:03.901173Z",
     "iopub.status.idle": "2022-10-13T07:56:03.907592Z",
     "shell.execute_reply": "2022-10-13T07:56:03.906498Z"
    },
    "papermill": {
     "duration": 0.039486,
     "end_time": "2022-10-13T07:56:03.914440",
     "exception": false,
     "start_time": "2022-10-13T07:56:03.874954",
     "status": "completed"
    },
    "tags": []
   },
   "outputs": [
    {
     "name": "stdout",
     "output_type": "stream",
     "text": [
      "(60000, 18)\n",
      "(60000,)\n"
     ]
    }
   ],
   "source": [
    "print(X.shape)\n",
    "print(y.shape)"
   ]
  },
  {
   "cell_type": "code",
   "execution_count": 17,
   "id": "fa9ef2f1",
   "metadata": {
    "execution": {
     "iopub.execute_input": "2022-10-13T07:56:03.960803Z",
     "iopub.status.busy": "2022-10-13T07:56:03.960376Z",
     "iopub.status.idle": "2022-10-13T07:56:04.000688Z",
     "shell.execute_reply": "2022-10-13T07:56:03.999732Z"
    },
    "papermill": {
     "duration": 0.063932,
     "end_time": "2022-10-13T07:56:04.003431",
     "exception": false,
     "start_time": "2022-10-13T07:56:03.939499",
     "status": "completed"
    },
    "tags": []
   },
   "outputs": [],
   "source": [
    "#Create X_train and y_train dfs\n",
    "X_train, X_test, y_train, y_test = train_test_split(X, y, test_size=0.2, random_state=42, stratify = y)"
   ]
  },
  {
   "cell_type": "markdown",
   "id": "a6ee7c9f",
   "metadata": {
    "papermill": {
     "duration": 0.02025,
     "end_time": "2022-10-13T07:56:04.044577",
     "exception": false,
     "start_time": "2022-10-13T07:56:04.024327",
     "status": "completed"
    },
    "tags": []
   },
   "source": [
    "# **Over-sampling the training data with SMOTE - Synthetic Minority Oversampling Technique**"
   ]
  },
  {
   "cell_type": "code",
   "execution_count": 18,
   "id": "e43833c4",
   "metadata": {
    "execution": {
     "iopub.execute_input": "2022-10-13T07:56:04.086533Z",
     "iopub.status.busy": "2022-10-13T07:56:04.086240Z",
     "iopub.status.idle": "2022-10-13T07:56:04.422370Z",
     "shell.execute_reply": "2022-10-13T07:56:04.421414Z"
    },
    "papermill": {
     "duration": 0.359511,
     "end_time": "2022-10-13T07:56:04.424708",
     "exception": false,
     "start_time": "2022-10-13T07:56:04.065197",
     "status": "completed"
    },
    "tags": []
   },
   "outputs": [],
   "source": [
    "#Oversampling data with SMOTE because there are very few cases of Fraud\n",
    "from imblearn.over_sampling import SMOTE\n",
    "\n",
    "sm = SMOTE(sampling_strategy='minority')\n",
    "X_train, y_train = sm.fit_resample(X_train, y_train.ravel())"
   ]
  },
  {
   "cell_type": "code",
   "execution_count": 19,
   "id": "d1db3d4b",
   "metadata": {
    "execution": {
     "iopub.execute_input": "2022-10-13T07:56:04.467947Z",
     "iopub.status.busy": "2022-10-13T07:56:04.467329Z",
     "iopub.status.idle": "2022-10-13T07:56:04.471658Z",
     "shell.execute_reply": "2022-10-13T07:56:04.470816Z"
    },
    "papermill": {
     "duration": 0.029428,
     "end_time": "2022-10-13T07:56:04.475248",
     "exception": false,
     "start_time": "2022-10-13T07:56:04.445820",
     "status": "completed"
    },
    "tags": []
   },
   "outputs": [],
   "source": [
    "# from imblearn.under_sampling import RandomUnderSampler\n",
    "# from collections import Counter\n",
    "\n",
    "# rus = RandomUnderSampler(random_state=42)\n",
    "# X_train, y_train = rus.fit_resample(X, y)"
   ]
  },
  {
   "cell_type": "markdown",
   "id": "b6779633",
   "metadata": {
    "papermill": {
     "duration": 0.019825,
     "end_time": "2022-10-13T07:56:04.515623",
     "exception": false,
     "start_time": "2022-10-13T07:56:04.495798",
     "status": "completed"
    },
    "tags": []
   },
   "source": [
    "# **Modeling**"
   ]
  },
  {
   "cell_type": "code",
   "execution_count": 20,
   "id": "0c54a14a",
   "metadata": {
    "execution": {
     "iopub.execute_input": "2022-10-13T07:56:04.557433Z",
     "iopub.status.busy": "2022-10-13T07:56:04.557121Z",
     "iopub.status.idle": "2022-10-13T07:56:06.085313Z",
     "shell.execute_reply": "2022-10-13T07:56:06.084515Z"
    },
    "papermill": {
     "duration": 1.551266,
     "end_time": "2022-10-13T07:56:06.087563",
     "exception": false,
     "start_time": "2022-10-13T07:56:04.536297",
     "status": "completed"
    },
    "tags": []
   },
   "outputs": [
    {
     "data": {
      "text/html": [
       "<style type='text/css'>\n",
       ".datatable table.frame { margin-bottom: 0; }\n",
       ".datatable table.frame thead { border-bottom: none; }\n",
       ".datatable table.frame tr.coltypes td {  color: #FFFFFF;  line-height: 6px;  padding: 0 0.5em;}\n",
       ".datatable .bool    { background: #DDDD99; }\n",
       ".datatable .object  { background: #565656; }\n",
       ".datatable .int     { background: #5D9E5D; }\n",
       ".datatable .float   { background: #4040CC; }\n",
       ".datatable .str     { background: #CC4040; }\n",
       ".datatable .time    { background: #40CC40; }\n",
       ".datatable .row_index {  background: var(--jp-border-color3);  border-right: 1px solid var(--jp-border-color0);  color: var(--jp-ui-font-color3);  font-size: 9px;}\n",
       ".datatable .frame tbody td { text-align: left; }\n",
       ".datatable .frame tr.coltypes .row_index {  background: var(--jp-border-color0);}\n",
       ".datatable th:nth-child(2) { padding-left: 12px; }\n",
       ".datatable .hellipsis {  color: var(--jp-cell-editor-border-color);}\n",
       ".datatable .vellipsis {  background: var(--jp-layout-color0);  color: var(--jp-cell-editor-border-color);}\n",
       ".datatable .na {  color: var(--jp-cell-editor-border-color);  font-size: 80%;}\n",
       ".datatable .sp {  opacity: 0.25;}\n",
       ".datatable .footer { font-size: 9px; }\n",
       ".datatable .frame_dimensions {  background: var(--jp-border-color3);  border-top: 1px solid var(--jp-border-color0);  color: var(--jp-ui-font-color3);  display: inline-block;  opacity: 0.6;  padding: 1px 10px 1px 5px;}\n",
       "</style>\n"
      ],
      "text/plain": [
       "<IPython.core.display.HTML object>"
      ]
     },
     "metadata": {},
     "output_type": "display_data"
    },
    {
     "data": {
      "text/plain": [
       "LGBMClassifier()"
      ]
     },
     "execution_count": 20,
     "metadata": {},
     "output_type": "execute_result"
    }
   ],
   "source": [
    "#fit the model\n",
    "import lightgbm \n",
    "\n",
    "lgb = lightgbm.LGBMClassifier()\n",
    "lgb.fit(X_train, y_train)"
   ]
  },
  {
   "cell_type": "code",
   "execution_count": 21,
   "id": "b82c511b",
   "metadata": {
    "execution": {
     "iopub.execute_input": "2022-10-13T07:56:06.118053Z",
     "iopub.status.busy": "2022-10-13T07:56:06.117738Z",
     "iopub.status.idle": "2022-10-13T07:56:06.158678Z",
     "shell.execute_reply": "2022-10-13T07:56:06.157988Z"
    },
    "papermill": {
     "duration": 0.05727,
     "end_time": "2022-10-13T07:56:06.160771",
     "exception": false,
     "start_time": "2022-10-13T07:56:06.103501",
     "status": "completed"
    },
    "tags": []
   },
   "outputs": [],
   "source": [
    "y_pred=lgb.predict(X_test)"
   ]
  },
  {
   "cell_type": "code",
   "execution_count": 22,
   "id": "6824c923",
   "metadata": {
    "execution": {
     "iopub.execute_input": "2022-10-13T07:56:06.190865Z",
     "iopub.status.busy": "2022-10-13T07:56:06.190584Z",
     "iopub.status.idle": "2022-10-13T07:56:06.198247Z",
     "shell.execute_reply": "2022-10-13T07:56:06.197247Z"
    },
    "papermill": {
     "duration": 0.024233,
     "end_time": "2022-10-13T07:56:06.200592",
     "exception": false,
     "start_time": "2022-10-13T07:56:06.176359",
     "status": "completed"
    },
    "tags": []
   },
   "outputs": [
    {
     "name": "stdout",
     "output_type": "stream",
     "text": [
      "LightGBM Model accuracy: 0.9992\n"
     ]
    }
   ],
   "source": [
    "from sklearn.metrics import accuracy_score\n",
    "accuracy=accuracy_score(y_pred, y_test)\n",
    "print('LightGBM Model accuracy: {0:0.4f}'.format(accuracy_score(y_test, y_pred)))"
   ]
  },
  {
   "cell_type": "code",
   "execution_count": 23,
   "id": "29fb89e1",
   "metadata": {
    "execution": {
     "iopub.execute_input": "2022-10-13T07:56:06.228385Z",
     "iopub.status.busy": "2022-10-13T07:56:06.228129Z",
     "iopub.status.idle": "2022-10-13T07:56:06.237600Z",
     "shell.execute_reply": "2022-10-13T07:56:06.236252Z"
    },
    "papermill": {
     "duration": 0.026018,
     "end_time": "2022-10-13T07:56:06.239740",
     "exception": false,
     "start_time": "2022-10-13T07:56:06.213722",
     "status": "completed"
    },
    "tags": []
   },
   "outputs": [
    {
     "name": "stdout",
     "output_type": "stream",
     "text": [
      "Confusion matrix\n",
      "\n",
      " [[11974     5]\n",
      " [    5    16]]\n",
      "\n",
      "True Positives(TP) =  11974\n",
      "\n",
      "True Negatives(TN) =  16\n",
      "\n",
      "False Positives(FP) =  5\n",
      "\n",
      "False Negatives(FN) =  5\n"
     ]
    }
   ],
   "source": [
    "from sklearn.metrics import confusion_matrix\n",
    "cm = confusion_matrix(y_test, y_pred)\n",
    "print('Confusion matrix\\n\\n', cm)\n",
    "print('\\nTrue Positives(TP) = ', cm[0,0])\n",
    "print('\\nTrue Negatives(TN) = ', cm[1,1])\n",
    "print('\\nFalse Positives(FP) = ', cm[0,1])\n",
    "print('\\nFalse Negatives(FN) = ', cm[1,0])"
   ]
  },
  {
   "cell_type": "code",
   "execution_count": 24,
   "id": "6dd8eaa4",
   "metadata": {
    "execution": {
     "iopub.execute_input": "2022-10-13T07:56:06.268038Z",
     "iopub.status.busy": "2022-10-13T07:56:06.267169Z",
     "iopub.status.idle": "2022-10-13T07:56:06.497620Z",
     "shell.execute_reply": "2022-10-13T07:56:06.496780Z"
    },
    "papermill": {
     "duration": 0.246766,
     "end_time": "2022-10-13T07:56:06.499660",
     "exception": false,
     "start_time": "2022-10-13T07:56:06.252894",
     "status": "completed"
    },
    "tags": []
   },
   "outputs": [
    {
     "data": {
      "text/plain": [
       "<AxesSubplot:>"
      ]
     },
     "execution_count": 24,
     "metadata": {},
     "output_type": "execute_result"
    },
    {
     "data": {
      "image/png": "[encoded data removed]",
      "text/plain": [
       "<Figure size 360x360 with 2 Axes>"
      ]
     },
     "metadata": {
      "needs_background": "light"
     },
     "output_type": "display_data"
    }
   ],
   "source": [
    "confusion_matrix = pd.DataFrame(data=cm, columns=['Actual Positive:1', 'Actual Negative:0'], \n",
    "                                 index=['Predict Positive:1', 'Predict Negative:0'])\n",
    "\n",
    "fig, ax = plt.subplots(figsize=(5,5)) \n",
    "sns.heatmap(confusion_matrix, annot=True, fmt='d', cmap = 'PuBu', ax = ax)"
   ]
  },
  {
   "cell_type": "code",
   "execution_count": 25,
   "id": "ba1c8fb6",
   "metadata": {
    "execution": {
     "iopub.execute_input": "2022-10-13T07:56:06.528555Z",
     "iopub.status.busy": "2022-10-13T07:56:06.528287Z",
     "iopub.status.idle": "2022-10-13T07:56:06.547762Z",
     "shell.execute_reply": "2022-10-13T07:56:06.544349Z"
    },
    "papermill": {
     "duration": 0.039422,
     "end_time": "2022-10-13T07:56:06.552738",
     "exception": false,
     "start_time": "2022-10-13T07:56:06.513316",
     "status": "completed"
    },
    "tags": []
   },
   "outputs": [
    {
     "name": "stdout",
     "output_type": "stream",
     "text": [
      "              precision    recall  f1-score   support\n",
      "\n",
      "           0       1.00      1.00      1.00     11979\n",
      "           1       0.76      0.76      0.76        21\n",
      "\n",
      "    accuracy                           1.00     12000\n",
      "   macro avg       0.88      0.88      0.88     12000\n",
      "weighted avg       1.00      1.00      1.00     12000\n",
      "\n"
     ]
    }
   ],
   "source": [
    "from sklearn.metrics import classification_report\n",
    "print(classification_report(y_test, y_pred))"
   ]
  },
  {
   "cell_type": "code",
   "execution_count": 26,
   "id": "be8dd0b9",
   "metadata": {
    "execution": {
     "iopub.execute_input": "2022-10-13T07:56:06.620427Z",
     "iopub.status.busy": "2022-10-13T07:56:06.620022Z",
     "iopub.status.idle": "2022-10-13T07:56:06.635782Z",
     "shell.execute_reply": "2022-10-13T07:56:06.634161Z"
    },
    "papermill": {
     "duration": 0.056531,
     "end_time": "2022-10-13T07:56:06.637865",
     "exception": false,
     "start_time": "2022-10-13T07:56:06.581334",
     "status": "completed"
    },
    "tags": []
   },
   "outputs": [
    {
     "name": "stdout",
     "output_type": "stream",
     "text": [
      "Accuracy: 0.999\n",
      "F1_macro: 0.88\n"
     ]
    }
   ],
   "source": [
    "#F1_macro is a better indicator of the model performance, since it is the harmonic mean between precision and sensitivity\n",
    "#Accuracy is not a good indicator in cases of target feature label imbalance\n",
    "from sklearn.metrics import f1_score, accuracy_score\n",
    "print('Accuracy:', round(accuracy_score(y_test, y_pred),3))\n",
    "print('F1_macro:',round(f1_score(y_test, y_pred, average='macro'),2))"
   ]
  },
  {
   "cell_type": "code",
   "execution_count": 27,
   "id": "bbcd0a92",
   "metadata": {
    "execution": {
     "iopub.execute_input": "2022-10-13T07:56:06.692996Z",
     "iopub.status.busy": "2022-10-13T07:56:06.692511Z",
     "iopub.status.idle": "2022-10-13T07:56:06.998060Z",
     "shell.execute_reply": "2022-10-13T07:56:06.997181Z"
    },
    "papermill": {
     "duration": 0.333918,
     "end_time": "2022-10-13T07:56:07.000680",
     "exception": false,
     "start_time": "2022-10-13T07:56:06.666762",
     "status": "completed"
    },
    "tags": []
   },
   "outputs": [
    {
     "data": {
      "image/png": "[encoded data removed]",
      "text/plain": [
       "<Figure size 432x288 with 1 Axes>"
      ]
     },
     "metadata": {
      "needs_background": "light"
     },
     "output_type": "display_data"
    }
   ],
   "source": [
    "import scikitplot as skplt\n",
    "\n",
    "metrics.plot_roc_curve(lgb, X_test, y_test)\n",
    "plt.show()"
   ]
  },
  {
   "cell_type": "markdown",
   "id": "24f0071e",
   "metadata": {
    "papermill": {
     "duration": 0.020931,
     "end_time": "2022-10-13T07:56:07.043559",
     "exception": false,
     "start_time": "2022-10-13T07:56:07.022628",
     "status": "completed"
    },
    "tags": []
   },
   "source": [
    "# **Model Interpretability**"
   ]
  },
  {
   "cell_type": "code",
   "execution_count": 28,
   "id": "a3d456ce",
   "metadata": {
    "execution": {
     "iopub.execute_input": "2022-10-13T07:56:07.087249Z",
     "iopub.status.busy": "2022-10-13T07:56:07.086780Z",
     "iopub.status.idle": "2022-10-13T07:56:07.414943Z",
     "shell.execute_reply": "2022-10-13T07:56:07.413950Z"
    },
    "papermill": {
     "duration": 0.352274,
     "end_time": "2022-10-13T07:56:07.417002",
     "exception": false,
     "start_time": "2022-10-13T07:56:07.064728",
     "status": "completed"
    },
    "tags": []
   },
   "outputs": [
    {
     "data": {
      "text/plain": [
       "<AxesSubplot:title={'center':'Feature importance'}, xlabel='Feature importance', ylabel='Features'>"
      ]
     },
     "execution_count": 28,
     "metadata": {},
     "output_type": "execute_result"
    },
    {
     "data": {
      "image/png": "[encoded data removed]",
      "text/plain": [
       "<Figure size 720x720 with 1 Axes>"
      ]
     },
     "metadata": {
      "needs_background": "light"
     },
     "output_type": "display_data"
    }
   ],
   "source": [
    "plt.rcParams[\"figure.figsize\"] = (10, 10)\n",
    "\n",
    "lightgbm.plot_importance(lgb)"
   ]
  },
  {
   "cell_type": "code",
   "execution_count": 29,
   "id": "ddb20ce9",
   "metadata": {
    "execution": {
     "iopub.execute_input": "2022-10-13T07:56:07.448000Z",
     "iopub.status.busy": "2022-10-13T07:56:07.447124Z",
     "iopub.status.idle": "2022-10-13T07:56:12.446956Z",
     "shell.execute_reply": "2022-10-13T07:56:12.446030Z"
    },
    "papermill": {
     "duration": 5.017464,
     "end_time": "2022-10-13T07:56:12.449058",
     "exception": false,
     "start_time": "2022-10-13T07:56:07.431594",
     "status": "completed"
    },
    "tags": []
   },
   "outputs": [
    {
     "data": {
      "text/html": [
       "\n",
       "    <style>\n",
       "    table.eli5-weights tr:hover {\n",
       "        filter: brightness(85%);\n",
       "    }\n",
       "</style>\n",
       "\n",
       "\n",
       "\n",
       "    \n",
       "\n",
       "    \n",
       "\n",
       "    \n",
       "\n",
       "    \n",
       "\n",
       "    \n",
       "\n",
       "    \n",
       "\n",
       "\n",
       "    \n",
       "\n",
       "    \n",
       "\n",
       "    \n",
       "\n",
       "    \n",
       "\n",
       "    \n",
       "\n",
       "    \n",
       "\n",
       "\n",
       "    \n",
       "\n",
       "    \n",
       "\n",
       "    \n",
       "\n",
       "    \n",
       "\n",
       "    \n",
       "        <table class=\"eli5-weights eli5-feature-importances\" style=\"border-collapse: collapse; border: none; margin-top: 0em; table-layout: auto;\">\n",
       "    <thead>\n",
       "    <tr style=\"border: none;\">\n",
       "        <th style=\"padding: 0 1em 0 0.5em; text-align: right; border: none;\">Weight</th>\n",
       "        <th style=\"padding: 0 0.5em 0 0.5em; text-align: left; border: none;\">Feature</th>\n",
       "    </tr>\n",
       "    </thead>\n",
       "    <tbody>\n",
       "    \n",
       "        <tr style=\"background-color: hsl(120, 100.00%, 80.00%); border: none;\">\n",
       "            <td style=\"padding: 0 1em 0 0.5em; text-align: right; border: none;\">\n",
       "                0.4387\n",
       "                \n",
       "            </td>\n",
       "            <td style=\"padding: 0 0.5em 0 0.5em; text-align: left; border: none;\">\n",
       "                step\n",
       "            </td>\n",
       "        </tr>\n",
       "    \n",
       "        <tr style=\"background-color: hsl(120, 100.00%, 88.95%); border: none;\">\n",
       "            <td style=\"padding: 0 1em 0 0.5em; text-align: right; border: none;\">\n",
       "                0.1880\n",
       "                \n",
       "            </td>\n",
       "            <td style=\"padding: 0 0.5em 0 0.5em; text-align: left; border: none;\">\n",
       "                nameDest\n",
       "            </td>\n",
       "        </tr>\n",
       "    \n",
       "        <tr style=\"background-color: hsl(120, 100.00%, 91.01%); border: none;\">\n",
       "            <td style=\"padding: 0 1em 0 0.5em; text-align: right; border: none;\">\n",
       "                0.1399\n",
       "                \n",
       "            </td>\n",
       "            <td style=\"padding: 0 0.5em 0 0.5em; text-align: left; border: none;\">\n",
       "                oldbalanceOrg\n",
       "            </td>\n",
       "        </tr>\n",
       "    \n",
       "        <tr style=\"background-color: hsl(120, 100.00%, 94.49%); border: none;\">\n",
       "            <td style=\"padding: 0 1em 0 0.5em; text-align: right; border: none;\">\n",
       "                0.0696\n",
       "                \n",
       "            </td>\n",
       "            <td style=\"padding: 0 0.5em 0 0.5em; text-align: left; border: none;\">\n",
       "                amount\n",
       "            </td>\n",
       "        </tr>\n",
       "    \n",
       "        <tr style=\"background-color: hsl(120, 100.00%, 94.58%); border: none;\">\n",
       "            <td style=\"padding: 0 1em 0 0.5em; text-align: right; border: none;\">\n",
       "                0.0679\n",
       "                \n",
       "            </td>\n",
       "            <td style=\"padding: 0 0.5em 0 0.5em; text-align: left; border: none;\">\n",
       "                newbalanceOrig\n",
       "            </td>\n",
       "        </tr>\n",
       "    \n",
       "        <tr style=\"background-color: hsl(120, 100.00%, 97.26%); border: none;\">\n",
       "            <td style=\"padding: 0 1em 0 0.5em; text-align: right; border: none;\">\n",
       "                0.0256\n",
       "                \n",
       "            </td>\n",
       "            <td style=\"padding: 0 0.5em 0 0.5em; text-align: left; border: none;\">\n",
       "                oldbalanceDest\n",
       "            </td>\n",
       "        </tr>\n",
       "    \n",
       "        <tr style=\"background-color: hsl(120, 100.00%, 97.65%); border: none;\">\n",
       "            <td style=\"padding: 0 1em 0 0.5em; text-align: right; border: none;\">\n",
       "                0.0206\n",
       "                \n",
       "            </td>\n",
       "            <td style=\"padding: 0 0.5em 0 0.5em; text-align: left; border: none;\">\n",
       "                type_CASH_IN\n",
       "            </td>\n",
       "        </tr>\n",
       "    \n",
       "        <tr style=\"background-color: hsl(120, 100.00%, 98.26%); border: none;\">\n",
       "            <td style=\"padding: 0 1em 0 0.5em; text-align: right; border: none;\">\n",
       "                0.0134\n",
       "                \n",
       "            </td>\n",
       "            <td style=\"padding: 0 0.5em 0 0.5em; text-align: left; border: none;\">\n",
       "                type_TRANSFER\n",
       "            </td>\n",
       "        </tr>\n",
       "    \n",
       "        <tr style=\"background-color: hsl(120, 100.00%, 98.59%); border: none;\">\n",
       "            <td style=\"padding: 0 1em 0 0.5em; text-align: right; border: none;\">\n",
       "                0.0099\n",
       "                \n",
       "            </td>\n",
       "            <td style=\"padding: 0 0.5em 0 0.5em; text-align: left; border: none;\">\n",
       "                newbalanceDest\n",
       "            </td>\n",
       "        </tr>\n",
       "    \n",
       "        <tr style=\"background-color: hsl(120, 100.00%, 98.65%); border: none;\">\n",
       "            <td style=\"padding: 0 1em 0 0.5em; text-align: right; border: none;\">\n",
       "                0.0093\n",
       "                \n",
       "            </td>\n",
       "            <td style=\"padding: 0 0.5em 0 0.5em; text-align: left; border: none;\">\n",
       "                actual_newbalanceDest\n",
       "            </td>\n",
       "        </tr>\n",
       "    \n",
       "        <tr style=\"background-color: hsl(120, 100.00%, 98.92%); border: none;\">\n",
       "            <td style=\"padding: 0 1em 0 0.5em; text-align: right; border: none;\">\n",
       "                0.0068\n",
       "                \n",
       "            </td>\n",
       "            <td style=\"padding: 0 0.5em 0 0.5em; text-align: left; border: none;\">\n",
       "                nameOrig\n",
       "            </td>\n",
       "        </tr>\n",
       "    \n",
       "        <tr style=\"background-color: hsl(120, 100.00%, 99.09%); border: none;\">\n",
       "            <td style=\"padding: 0 1em 0 0.5em; text-align: right; border: none;\">\n",
       "                0.0053\n",
       "                \n",
       "            </td>\n",
       "            <td style=\"padding: 0 0.5em 0 0.5em; text-align: left; border: none;\">\n",
       "                type_DEBIT\n",
       "            </td>\n",
       "        </tr>\n",
       "    \n",
       "        <tr style=\"background-color: hsl(120, 100.00%, 99.32%); border: none;\">\n",
       "            <td style=\"padding: 0 1em 0 0.5em; text-align: right; border: none;\">\n",
       "                0.0035\n",
       "                \n",
       "            </td>\n",
       "            <td style=\"padding: 0 0.5em 0 0.5em; text-align: left; border: none;\">\n",
       "                type_CASH_OUT\n",
       "            </td>\n",
       "        </tr>\n",
       "    \n",
       "        <tr style=\"background-color: hsl(120, 100.00%, 99.63%); border: none;\">\n",
       "            <td style=\"padding: 0 1em 0 0.5em; text-align: right; border: none;\">\n",
       "                0.0015\n",
       "                \n",
       "            </td>\n",
       "            <td style=\"padding: 0 0.5em 0 0.5em; text-align: left; border: none;\">\n",
       "                Merchant\n",
       "            </td>\n",
       "        </tr>\n",
       "    \n",
       "        <tr style=\"background-color: hsl(0, 100.00%, 100.00%); border: none;\">\n",
       "            <td style=\"padding: 0 1em 0 0.5em; text-align: right; border: none;\">\n",
       "                0\n",
       "                \n",
       "            </td>\n",
       "            <td style=\"padding: 0 0.5em 0 0.5em; text-align: left; border: none;\">\n",
       "                type_PAYMENT\n",
       "            </td>\n",
       "        </tr>\n",
       "    \n",
       "        <tr style=\"background-color: hsl(0, 100.00%, 100.00%); border: none;\">\n",
       "            <td style=\"padding: 0 1em 0 0.5em; text-align: right; border: none;\">\n",
       "                0\n",
       "                \n",
       "            </td>\n",
       "            <td style=\"padding: 0 0.5em 0 0.5em; text-align: left; border: none;\">\n",
       "                balanceDest_flag\n",
       "            </td>\n",
       "        </tr>\n",
       "    \n",
       "        <tr style=\"background-color: hsl(0, 100.00%, 100.00%); border: none;\">\n",
       "            <td style=\"padding: 0 1em 0 0.5em; text-align: right; border: none;\">\n",
       "                0\n",
       "                \n",
       "            </td>\n",
       "            <td style=\"padding: 0 0.5em 0 0.5em; text-align: left; border: none;\">\n",
       "                threshold_flag\n",
       "            </td>\n",
       "        </tr>\n",
       "    \n",
       "        <tr style=\"background-color: hsl(0, 100.00%, 100.00%); border: none;\">\n",
       "            <td style=\"padding: 0 1em 0 0.5em; text-align: right; border: none;\">\n",
       "                0\n",
       "                \n",
       "            </td>\n",
       "            <td style=\"padding: 0 0.5em 0 0.5em; text-align: left; border: none;\">\n",
       "                isFlaggedFraud\n",
       "            </td>\n",
       "        </tr>\n",
       "    \n",
       "    \n",
       "    </tbody>\n",
       "</table>\n",
       "    \n",
       "\n",
       "    \n",
       "\n",
       "\n",
       "    \n",
       "\n",
       "    \n",
       "\n",
       "    \n",
       "\n",
       "    \n",
       "\n",
       "    \n",
       "\n",
       "    \n",
       "\n",
       "\n",
       "\n"
      ],
      "text/plain": [
       "<IPython.core.display.HTML object>"
      ]
     },
     "execution_count": 29,
     "metadata": {},
     "output_type": "execute_result"
    }
   ],
   "source": [
    "#Looking at model weights to explain predictions\n",
    "import eli5\n",
    "eli5.show_weights(lgb)"
   ]
  },
  {
   "cell_type": "markdown",
   "id": "a304cf6a",
   "metadata": {
    "papermill": {
     "duration": 0.015091,
     "end_time": "2022-10-13T07:56:12.479408",
     "exception": false,
     "start_time": "2022-10-13T07:56:12.464317",
     "status": "completed"
    },
    "tags": []
   },
   "source": [
    "# **Explainable AI**"
   ]
  },
  {
   "cell_type": "code",
   "execution_count": 30,
   "id": "9254a9b5",
   "metadata": {
    "execution": {
     "iopub.execute_input": "2022-10-13T07:56:12.511505Z",
     "iopub.status.busy": "2022-10-13T07:56:12.510075Z",
     "iopub.status.idle": "2022-10-13T07:57:38.645396Z",
     "shell.execute_reply": "2022-10-13T07:57:38.644405Z"
    },
    "papermill": {
     "duration": 86.153388,
     "end_time": "2022-10-13T07:57:38.647768",
     "exception": false,
     "start_time": "2022-10-13T07:56:12.494380",
     "status": "completed"
    },
    "tags": []
   },
   "outputs": [],
   "source": [
    "import shap\n",
    "explainer = shap.TreeExplainer(lgb, feature_perturbation=\"interventional\", model_output=\"raw\")\n",
    "shap_values = explainer.shap_values(X_train)\n",
    "expected_value = explainer.expected_value"
   ]
  },
  {
   "cell_type": "code",
   "execution_count": 31,
   "id": "fcd14783",
   "metadata": {
    "execution": {
     "iopub.execute_input": "2022-10-13T07:57:38.680114Z",
     "iopub.status.busy": "2022-10-13T07:57:38.679769Z",
     "iopub.status.idle": "2022-10-13T07:57:39.264324Z",
     "shell.execute_reply": "2022-10-13T07:57:39.263422Z"
    },
    "papermill": {
     "duration": 0.603294,
     "end_time": "2022-10-13T07:57:39.266925",
     "exception": false,
     "start_time": "2022-10-13T07:57:38.663631",
     "status": "completed"
    },
    "tags": []
   },
   "outputs": [
    {
     "data": {
      "image/png": "[encoded data removed]",
      "text/plain": [
       "<Figure size 576x626.4 with 1 Axes>"
      ]
     },
     "metadata": {
      "needs_background": "light"
     },
     "output_type": "display_data"
    }
   ],
   "source": [
    "shap.summary_plot(shap_values, X,title=\"SHAP summary plot\") "
   ]
  },
  {
   "cell_type": "code",
   "execution_count": 32,
   "id": "cfc660f4",
   "metadata": {
    "execution": {
     "iopub.execute_input": "2022-10-13T07:57:39.316367Z",
     "iopub.status.busy": "2022-10-13T07:57:39.315890Z",
     "iopub.status.idle": "2022-10-13T07:57:53.746273Z",
     "shell.execute_reply": "2022-10-13T07:57:53.745364Z"
    },
    "papermill": {
     "duration": 14.457527,
     "end_time": "2022-10-13T07:57:53.749110",
     "exception": false,
     "start_time": "2022-10-13T07:57:39.291583",
     "status": "completed"
    },
    "tags": []
   },
   "outputs": [
    {
     "data": {
      "image/png": "[encoded data removed]",
      "text/plain": [
       "<Figure size 576x626.4 with 2 Axes>"
      ]
     },
     "metadata": {
      "needs_background": "light"
     },
     "output_type": "display_data"
    }
   ],
   "source": [
    "shap.summary_plot(shap_values[0], X_train, plot_type = 'violin') "
   ]
  },
  {
   "cell_type": "code",
   "execution_count": 33,
   "id": "6bc6f607",
   "metadata": {
    "execution": {
     "iopub.execute_input": "2022-10-13T07:57:53.783337Z",
     "iopub.status.busy": "2022-10-13T07:57:53.782763Z",
     "iopub.status.idle": "2022-10-13T07:57:53.787385Z",
     "shell.execute_reply": "2022-10-13T07:57:53.786538Z"
    },
    "papermill": {
     "duration": 0.023539,
     "end_time": "2022-10-13T07:57:53.789335",
     "exception": false,
     "start_time": "2022-10-13T07:57:53.765796",
     "status": "completed"
    },
    "tags": []
   },
   "outputs": [],
   "source": [
    "#shap.force_plot(explainer.expected_value[0], shap_values[0], X_train)"
   ]
  }
 ],
 "metadata": {
  "kernelspec": {
   "display_name": "Python 3",
   "language": "python",
   "name": "python3"
  },
  "language_info": {
   "codemirror_mode": {
    "name": "ipython",
    "version": 3
   },
   "file_extension": ".py",
   "mimetype": "text/x-python",
   "name": "python",
   "nbconvert_exporter": "python",
   "pygments_lexer": "ipython3",
   "version": "3.7.12"
  },
  "papermill": {
   "default_parameters": {},
   "duration": 186.374457,
   "end_time": "2022-10-13T07:57:56.442343",
   "environment_variables": {},
   "exception": null,
   "input_path": "__notebook__.ipynb",
   "output_path": "__notebook__.ipynb",
   "parameters": {},
   "start_time": "2022-10-13T07:54:50.067886",
   "version": "2.3.4"
  }
 },
 "nbformat": 4,
 "nbformat_minor": 5
}
